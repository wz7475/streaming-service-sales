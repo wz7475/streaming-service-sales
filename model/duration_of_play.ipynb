{
 "cells": [
  {
   "cell_type": "code",
   "execution_count": 1,
   "id": "initial_id",
   "metadata": {
    "collapsed": true,
    "ExecuteTime": {
     "end_time": "2024-01-05T21:03:38.184991167Z",
     "start_time": "2024-01-05T21:03:37.940913029Z"
    }
   },
   "outputs": [],
   "source": [
    "import os\n",
    "import pandas as pd\n",
    "from config_file import data_path"
   ]
  },
  {
   "cell_type": "code",
   "execution_count": 2,
   "outputs": [
    {
     "data": {
      "text/plain": "Unnamed: 0    float64\ntimestamp      object\ntrack_id       object\nevent_type     object\ndtype: object"
     },
     "execution_count": 2,
     "metadata": {},
     "output_type": "execute_result"
    }
   ],
   "source": [
    "df_sessions = pd.read_csv(os.path.join(data_path, 'timestamp_track_event_type.csv'), parse_dates=True)\n",
    "df_sessions.head()\n",
    "df_sessions.dtypes"
   ],
   "metadata": {
    "collapsed": false,
    "ExecuteTime": {
     "end_time": "2024-01-05T21:03:54.906239528Z",
     "start_time": "2024-01-05T21:03:38.226607793Z"
    }
   },
   "id": "a5132d65912fe0ac"
  },
  {
   "cell_type": "code",
   "execution_count": 3,
   "outputs": [
    {
     "data": {
      "text/plain": "                    timestamp                track_id     event_type\n0  2020-10-21 20:41:02.953054  7iVl8jW3IzifFiXP0NpknS           play\n1  2020-10-21 20:41:52.683054  7iVl8jW3IzifFiXP0NpknS           like\n2  2020-10-21 20:43:45.486054                     NaN  advertisement\n3  2020-10-21 20:44:09.486054  1mr9ZUNWfCUClBDhYbCErx           play\n4  2020-10-21 20:44:17.512054  1mr9ZUNWfCUClBDhYbCErx           skip",
      "text/html": "<div>\n<style scoped>\n    .dataframe tbody tr th:only-of-type {\n        vertical-align: middle;\n    }\n\n    .dataframe tbody tr th {\n        vertical-align: top;\n    }\n\n    .dataframe thead th {\n        text-align: right;\n    }\n</style>\n<table border=\"1\" class=\"dataframe\">\n  <thead>\n    <tr style=\"text-align: right;\">\n      <th></th>\n      <th>timestamp</th>\n      <th>track_id</th>\n      <th>event_type</th>\n    </tr>\n  </thead>\n  <tbody>\n    <tr>\n      <th>0</th>\n      <td>2020-10-21 20:41:02.953054</td>\n      <td>7iVl8jW3IzifFiXP0NpknS</td>\n      <td>play</td>\n    </tr>\n    <tr>\n      <th>1</th>\n      <td>2020-10-21 20:41:52.683054</td>\n      <td>7iVl8jW3IzifFiXP0NpknS</td>\n      <td>like</td>\n    </tr>\n    <tr>\n      <th>2</th>\n      <td>2020-10-21 20:43:45.486054</td>\n      <td>NaN</td>\n      <td>advertisement</td>\n    </tr>\n    <tr>\n      <th>3</th>\n      <td>2020-10-21 20:44:09.486054</td>\n      <td>1mr9ZUNWfCUClBDhYbCErx</td>\n      <td>play</td>\n    </tr>\n    <tr>\n      <th>4</th>\n      <td>2020-10-21 20:44:17.512054</td>\n      <td>1mr9ZUNWfCUClBDhYbCErx</td>\n      <td>skip</td>\n    </tr>\n  </tbody>\n</table>\n</div>"
     },
     "execution_count": 3,
     "metadata": {},
     "output_type": "execute_result"
    }
   ],
   "source": [
    "df_sessions.drop([\"Unnamed: 0\"], axis=1, inplace=True)\n",
    "df_sessions.head()"
   ],
   "metadata": {
    "collapsed": false,
    "ExecuteTime": {
     "end_time": "2024-01-05T21:03:55.531941695Z",
     "start_time": "2024-01-05T21:03:55.310883970Z"
    }
   },
   "id": "58ba7ba224b6f4c6"
  },
  {
   "cell_type": "code",
   "execution_count": 4,
   "outputs": [
    {
     "data": {
      "text/plain": "                   timestamp                track_id     event_type\n0 2020-10-21 20:41:02.953054  7iVl8jW3IzifFiXP0NpknS           play\n1 2020-10-21 20:41:52.683054  7iVl8jW3IzifFiXP0NpknS           like\n2 2020-10-21 20:43:45.486054                     NaN  advertisement\n3 2020-10-21 20:44:09.486054  1mr9ZUNWfCUClBDhYbCErx           play\n4 2020-10-21 20:44:17.512054  1mr9ZUNWfCUClBDhYbCErx           skip",
      "text/html": "<div>\n<style scoped>\n    .dataframe tbody tr th:only-of-type {\n        vertical-align: middle;\n    }\n\n    .dataframe tbody tr th {\n        vertical-align: top;\n    }\n\n    .dataframe thead th {\n        text-align: right;\n    }\n</style>\n<table border=\"1\" class=\"dataframe\">\n  <thead>\n    <tr style=\"text-align: right;\">\n      <th></th>\n      <th>timestamp</th>\n      <th>track_id</th>\n      <th>event_type</th>\n    </tr>\n  </thead>\n  <tbody>\n    <tr>\n      <th>0</th>\n      <td>2020-10-21 20:41:02.953054</td>\n      <td>7iVl8jW3IzifFiXP0NpknS</td>\n      <td>play</td>\n    </tr>\n    <tr>\n      <th>1</th>\n      <td>2020-10-21 20:41:52.683054</td>\n      <td>7iVl8jW3IzifFiXP0NpknS</td>\n      <td>like</td>\n    </tr>\n    <tr>\n      <th>2</th>\n      <td>2020-10-21 20:43:45.486054</td>\n      <td>NaN</td>\n      <td>advertisement</td>\n    </tr>\n    <tr>\n      <th>3</th>\n      <td>2020-10-21 20:44:09.486054</td>\n      <td>1mr9ZUNWfCUClBDhYbCErx</td>\n      <td>play</td>\n    </tr>\n    <tr>\n      <th>4</th>\n      <td>2020-10-21 20:44:17.512054</td>\n      <td>1mr9ZUNWfCUClBDhYbCErx</td>\n      <td>skip</td>\n    </tr>\n  </tbody>\n</table>\n</div>"
     },
     "execution_count": 4,
     "metadata": {},
     "output_type": "execute_result"
    }
   ],
   "source": [
    "df_sessions[\"timestamp\"] = pd.to_datetime(df_sessions[\"timestamp\"], format=\"%Y-%m-%d %H:%M:%S.%f\", errors='coerce')\n",
    "df_sessions.head()"
   ],
   "metadata": {
    "collapsed": false,
    "ExecuteTime": {
     "end_time": "2024-01-05T21:04:01.580397347Z",
     "start_time": "2024-01-05T21:04:00.585906052Z"
    }
   },
   "id": "7799a2416cba0bde"
  },
  {
   "cell_type": "code",
   "execution_count": 5,
   "outputs": [
    {
     "data": {
      "text/plain": "                   timestamp                track_id     event_type  \\\n0 2020-10-21 20:41:02.953054  7iVl8jW3IzifFiXP0NpknS           play   \n1 2020-10-21 20:41:52.683054  7iVl8jW3IzifFiXP0NpknS           like   \n2 2020-10-21 20:43:45.486054                     NaN  advertisement   \n3 2020-10-21 20:44:09.486054  1mr9ZUNWfCUClBDhYbCErx           play   \n4 2020-10-21 20:44:17.512054  1mr9ZUNWfCUClBDhYbCErx           skip   \n\n   next_event  \n0      49.730  \n1     112.803  \n2      24.000  \n3       8.026  \n4       0.000  ",
      "text/html": "<div>\n<style scoped>\n    .dataframe tbody tr th:only-of-type {\n        vertical-align: middle;\n    }\n\n    .dataframe tbody tr th {\n        vertical-align: top;\n    }\n\n    .dataframe thead th {\n        text-align: right;\n    }\n</style>\n<table border=\"1\" class=\"dataframe\">\n  <thead>\n    <tr style=\"text-align: right;\">\n      <th></th>\n      <th>timestamp</th>\n      <th>track_id</th>\n      <th>event_type</th>\n      <th>next_event</th>\n    </tr>\n  </thead>\n  <tbody>\n    <tr>\n      <th>0</th>\n      <td>2020-10-21 20:41:02.953054</td>\n      <td>7iVl8jW3IzifFiXP0NpknS</td>\n      <td>play</td>\n      <td>49.730</td>\n    </tr>\n    <tr>\n      <th>1</th>\n      <td>2020-10-21 20:41:52.683054</td>\n      <td>7iVl8jW3IzifFiXP0NpknS</td>\n      <td>like</td>\n      <td>112.803</td>\n    </tr>\n    <tr>\n      <th>2</th>\n      <td>2020-10-21 20:43:45.486054</td>\n      <td>NaN</td>\n      <td>advertisement</td>\n      <td>24.000</td>\n    </tr>\n    <tr>\n      <th>3</th>\n      <td>2020-10-21 20:44:09.486054</td>\n      <td>1mr9ZUNWfCUClBDhYbCErx</td>\n      <td>play</td>\n      <td>8.026</td>\n    </tr>\n    <tr>\n      <th>4</th>\n      <td>2020-10-21 20:44:17.512054</td>\n      <td>1mr9ZUNWfCUClBDhYbCErx</td>\n      <td>skip</td>\n      <td>0.000</td>\n    </tr>\n  </tbody>\n</table>\n</div>"
     },
     "execution_count": 5,
     "metadata": {},
     "output_type": "execute_result"
    }
   ],
   "source": [
    "df_sessions[\"next_event\"] =  (\n",
    "    df_sessions[\"timestamp\"].shift(-1) - df_sessions[\"timestamp\"]\n",
    ").dt.total_seconds()\n",
    "df_sessions.head()"
   ],
   "metadata": {
    "collapsed": false,
    "ExecuteTime": {
     "end_time": "2024-01-05T21:04:01.995011992Z",
     "start_time": "2024-01-05T21:04:01.581575519Z"
    }
   },
   "id": "87f2e413e376fc46"
  },
  {
   "cell_type": "code",
   "execution_count": 6,
   "outputs": [
    {
     "data": {
      "text/plain": "                   timestamp                track_id event_type  next_event\n0 2020-10-21 20:41:02.953054  7iVl8jW3IzifFiXP0NpknS       play      49.730\n3 2020-10-21 20:44:09.486054  1mr9ZUNWfCUClBDhYbCErx       play       8.026\n5 2020-10-21 20:44:17.512054  5ITa72IsNdohe9gu2gDQQC       play     224.533\n6 2020-10-21 20:48:02.045054  2Fkgr7LZTAjakkceB7PwN5       play     156.474\n8 2020-10-21 20:50:38.519054  6oPKcllvFYlDveYlyBuYXs       play     156.547",
      "text/html": "<div>\n<style scoped>\n    .dataframe tbody tr th:only-of-type {\n        vertical-align: middle;\n    }\n\n    .dataframe tbody tr th {\n        vertical-align: top;\n    }\n\n    .dataframe thead th {\n        text-align: right;\n    }\n</style>\n<table border=\"1\" class=\"dataframe\">\n  <thead>\n    <tr style=\"text-align: right;\">\n      <th></th>\n      <th>timestamp</th>\n      <th>track_id</th>\n      <th>event_type</th>\n      <th>next_event</th>\n    </tr>\n  </thead>\n  <tbody>\n    <tr>\n      <th>0</th>\n      <td>2020-10-21 20:41:02.953054</td>\n      <td>7iVl8jW3IzifFiXP0NpknS</td>\n      <td>play</td>\n      <td>49.730</td>\n    </tr>\n    <tr>\n      <th>3</th>\n      <td>2020-10-21 20:44:09.486054</td>\n      <td>1mr9ZUNWfCUClBDhYbCErx</td>\n      <td>play</td>\n      <td>8.026</td>\n    </tr>\n    <tr>\n      <th>5</th>\n      <td>2020-10-21 20:44:17.512054</td>\n      <td>5ITa72IsNdohe9gu2gDQQC</td>\n      <td>play</td>\n      <td>224.533</td>\n    </tr>\n    <tr>\n      <th>6</th>\n      <td>2020-10-21 20:48:02.045054</td>\n      <td>2Fkgr7LZTAjakkceB7PwN5</td>\n      <td>play</td>\n      <td>156.474</td>\n    </tr>\n    <tr>\n      <th>8</th>\n      <td>2020-10-21 20:50:38.519054</td>\n      <td>6oPKcllvFYlDveYlyBuYXs</td>\n      <td>play</td>\n      <td>156.547</td>\n    </tr>\n  </tbody>\n</table>\n</div>"
     },
     "execution_count": 6,
     "metadata": {},
     "output_type": "execute_result"
    }
   ],
   "source": [
    "df_sessions = df_sessions[df_sessions[\"event_type\"] == \"play\"]\n",
    "df_sessions.head()"
   ],
   "metadata": {
    "collapsed": false,
    "ExecuteTime": {
     "end_time": "2024-01-05T21:04:03.891261398Z",
     "start_time": "2024-01-05T21:04:03.484639129Z"
    }
   },
   "id": "14643f6809b449db"
  },
  {
   "cell_type": "code",
   "execution_count": 7,
   "outputs": [
    {
     "data": {
      "text/plain": "                   timestamp                track_id  next_event\n0 2020-10-21 20:41:02.953054  7iVl8jW3IzifFiXP0NpknS      49.730\n3 2020-10-21 20:44:09.486054  1mr9ZUNWfCUClBDhYbCErx       8.026\n5 2020-10-21 20:44:17.512054  5ITa72IsNdohe9gu2gDQQC     224.533\n6 2020-10-21 20:48:02.045054  2Fkgr7LZTAjakkceB7PwN5     156.474\n8 2020-10-21 20:50:38.519054  6oPKcllvFYlDveYlyBuYXs     156.547",
      "text/html": "<div>\n<style scoped>\n    .dataframe tbody tr th:only-of-type {\n        vertical-align: middle;\n    }\n\n    .dataframe tbody tr th {\n        vertical-align: top;\n    }\n\n    .dataframe thead th {\n        text-align: right;\n    }\n</style>\n<table border=\"1\" class=\"dataframe\">\n  <thead>\n    <tr style=\"text-align: right;\">\n      <th></th>\n      <th>timestamp</th>\n      <th>track_id</th>\n      <th>next_event</th>\n    </tr>\n  </thead>\n  <tbody>\n    <tr>\n      <th>0</th>\n      <td>2020-10-21 20:41:02.953054</td>\n      <td>7iVl8jW3IzifFiXP0NpknS</td>\n      <td>49.730</td>\n    </tr>\n    <tr>\n      <th>3</th>\n      <td>2020-10-21 20:44:09.486054</td>\n      <td>1mr9ZUNWfCUClBDhYbCErx</td>\n      <td>8.026</td>\n    </tr>\n    <tr>\n      <th>5</th>\n      <td>2020-10-21 20:44:17.512054</td>\n      <td>5ITa72IsNdohe9gu2gDQQC</td>\n      <td>224.533</td>\n    </tr>\n    <tr>\n      <th>6</th>\n      <td>2020-10-21 20:48:02.045054</td>\n      <td>2Fkgr7LZTAjakkceB7PwN5</td>\n      <td>156.474</td>\n    </tr>\n    <tr>\n      <th>8</th>\n      <td>2020-10-21 20:50:38.519054</td>\n      <td>6oPKcllvFYlDveYlyBuYXs</td>\n      <td>156.547</td>\n    </tr>\n  </tbody>\n</table>\n</div>"
     },
     "execution_count": 7,
     "metadata": {},
     "output_type": "execute_result"
    }
   ],
   "source": [
    "df_sessions.drop([\"event_type\"], axis=1, inplace=True)\n",
    "df_sessions.head()"
   ],
   "metadata": {
    "collapsed": false,
    "ExecuteTime": {
     "end_time": "2024-01-05T21:04:04.069908060Z",
     "start_time": "2024-01-05T21:04:03.892144604Z"
    }
   },
   "id": "c3699a0678b93816"
  },
  {
   "cell_type": "code",
   "execution_count": 8,
   "outputs": [
    {
     "data": {
      "text/plain": "                       id               id_artist  duration_ms\n0  6C0WWu7RYKbAgWUI3YC0sT  7u710e44HW3K7A5eTnRqHC       249573\n1  4q7EBRq8ncztC2PRmEC7Fy  3sFhA6G1N0gG1pszb6kk1m       254733\n2  7cNyONpVADZVrW9xe3qq4z  7IAXZaLTb6nkJr8RmVPn5y       279347\n3  1bKRTzTFz7wHMxpgZSuPR1  5bOsFzuJ6QZMr86ezC4oXY       193707\n4  56OEjuyZ3AROnv4aR1XqhD  6zJ7WZkyTNmB1bFdmHH2k9       182120",
      "text/html": "<div>\n<style scoped>\n    .dataframe tbody tr th:only-of-type {\n        vertical-align: middle;\n    }\n\n    .dataframe tbody tr th {\n        vertical-align: top;\n    }\n\n    .dataframe thead th {\n        text-align: right;\n    }\n</style>\n<table border=\"1\" class=\"dataframe\">\n  <thead>\n    <tr style=\"text-align: right;\">\n      <th></th>\n      <th>id</th>\n      <th>id_artist</th>\n      <th>duration_ms</th>\n    </tr>\n  </thead>\n  <tbody>\n    <tr>\n      <th>0</th>\n      <td>6C0WWu7RYKbAgWUI3YC0sT</td>\n      <td>7u710e44HW3K7A5eTnRqHC</td>\n      <td>249573</td>\n    </tr>\n    <tr>\n      <th>1</th>\n      <td>4q7EBRq8ncztC2PRmEC7Fy</td>\n      <td>3sFhA6G1N0gG1pszb6kk1m</td>\n      <td>254733</td>\n    </tr>\n    <tr>\n      <th>2</th>\n      <td>7cNyONpVADZVrW9xe3qq4z</td>\n      <td>7IAXZaLTb6nkJr8RmVPn5y</td>\n      <td>279347</td>\n    </tr>\n    <tr>\n      <th>3</th>\n      <td>1bKRTzTFz7wHMxpgZSuPR1</td>\n      <td>5bOsFzuJ6QZMr86ezC4oXY</td>\n      <td>193707</td>\n    </tr>\n    <tr>\n      <th>4</th>\n      <td>56OEjuyZ3AROnv4aR1XqhD</td>\n      <td>6zJ7WZkyTNmB1bFdmHH2k9</td>\n      <td>182120</td>\n    </tr>\n  </tbody>\n</table>\n</div>"
     },
     "execution_count": 8,
     "metadata": {},
     "output_type": "execute_result"
    }
   ],
   "source": [
    "df_artist_track = pd.read_csv(os.path.join(data_path, 'track_artist_duration.csv'))\n",
    "df_artist_track.head()"
   ],
   "metadata": {
    "collapsed": false,
    "ExecuteTime": {
     "end_time": "2024-01-05T21:04:04.186792184Z",
     "start_time": "2024-01-05T21:04:04.059739251Z"
    }
   },
   "id": "b0f1f40c0f7675c1"
  },
  {
   "cell_type": "code",
   "execution_count": 9,
   "outputs": [
    {
     "data": {
      "text/plain": "                 track_id               id_artist  duration_s\n0  6C0WWu7RYKbAgWUI3YC0sT  7u710e44HW3K7A5eTnRqHC     249.573\n1  4q7EBRq8ncztC2PRmEC7Fy  3sFhA6G1N0gG1pszb6kk1m     254.733\n2  7cNyONpVADZVrW9xe3qq4z  7IAXZaLTb6nkJr8RmVPn5y     279.347\n3  1bKRTzTFz7wHMxpgZSuPR1  5bOsFzuJ6QZMr86ezC4oXY     193.707\n4  56OEjuyZ3AROnv4aR1XqhD  6zJ7WZkyTNmB1bFdmHH2k9     182.120",
      "text/html": "<div>\n<style scoped>\n    .dataframe tbody tr th:only-of-type {\n        vertical-align: middle;\n    }\n\n    .dataframe tbody tr th {\n        vertical-align: top;\n    }\n\n    .dataframe thead th {\n        text-align: right;\n    }\n</style>\n<table border=\"1\" class=\"dataframe\">\n  <thead>\n    <tr style=\"text-align: right;\">\n      <th></th>\n      <th>track_id</th>\n      <th>id_artist</th>\n      <th>duration_s</th>\n    </tr>\n  </thead>\n  <tbody>\n    <tr>\n      <th>0</th>\n      <td>6C0WWu7RYKbAgWUI3YC0sT</td>\n      <td>7u710e44HW3K7A5eTnRqHC</td>\n      <td>249.573</td>\n    </tr>\n    <tr>\n      <th>1</th>\n      <td>4q7EBRq8ncztC2PRmEC7Fy</td>\n      <td>3sFhA6G1N0gG1pszb6kk1m</td>\n      <td>254.733</td>\n    </tr>\n    <tr>\n      <th>2</th>\n      <td>7cNyONpVADZVrW9xe3qq4z</td>\n      <td>7IAXZaLTb6nkJr8RmVPn5y</td>\n      <td>279.347</td>\n    </tr>\n    <tr>\n      <th>3</th>\n      <td>1bKRTzTFz7wHMxpgZSuPR1</td>\n      <td>5bOsFzuJ6QZMr86ezC4oXY</td>\n      <td>193.707</td>\n    </tr>\n    <tr>\n      <th>4</th>\n      <td>56OEjuyZ3AROnv4aR1XqhD</td>\n      <td>6zJ7WZkyTNmB1bFdmHH2k9</td>\n      <td>182.120</td>\n    </tr>\n  </tbody>\n</table>\n</div>"
     },
     "execution_count": 9,
     "metadata": {},
     "output_type": "execute_result"
    }
   ],
   "source": [
    "df_artist_track[\"duration_ms\"] = df_artist_track[\"duration_ms\"] / 1000\n",
    "df_artist_track.rename(columns={\"duration_ms\": \"duration_s\", \"id\": \"track_id\"}, inplace=True)\n",
    "df_artist_track.head()"
   ],
   "metadata": {
    "collapsed": false,
    "ExecuteTime": {
     "end_time": "2024-01-05T21:04:04.238069189Z",
     "start_time": "2024-01-05T21:04:04.184915295Z"
    }
   },
   "id": "807ac09a4c64180f"
  },
  {
   "cell_type": "code",
   "execution_count": 10,
   "outputs": [
    {
     "data": {
      "text/plain": "                   timestamp                track_id  next_event  \\\n0 2020-10-21 20:41:02.953054  7iVl8jW3IzifFiXP0NpknS      49.730   \n1 2020-10-21 20:44:09.486054  1mr9ZUNWfCUClBDhYbCErx       8.026   \n2 2020-10-21 20:44:17.512054  5ITa72IsNdohe9gu2gDQQC     224.533   \n3 2020-10-21 20:48:02.045054  2Fkgr7LZTAjakkceB7PwN5     156.474   \n4 2020-10-21 20:50:38.519054  6oPKcllvFYlDveYlyBuYXs     156.547   \n\n                id_artist  duration_s  \n0  1SQRv42e4PjEYfPhS0Tk9E     162.533  \n1  34jw2BbxjoYalTp8cJFCPv     220.415  \n2  44NX2ffIYHr6D4n7RaZF7A     224.533  \n3  1Yox196W7bzVNZI7RBaPnf     374.827  \n4  1eClJfHLoDI4rZe5HxzBFv     156.547  ",
      "text/html": "<div>\n<style scoped>\n    .dataframe tbody tr th:only-of-type {\n        vertical-align: middle;\n    }\n\n    .dataframe tbody tr th {\n        vertical-align: top;\n    }\n\n    .dataframe thead th {\n        text-align: right;\n    }\n</style>\n<table border=\"1\" class=\"dataframe\">\n  <thead>\n    <tr style=\"text-align: right;\">\n      <th></th>\n      <th>timestamp</th>\n      <th>track_id</th>\n      <th>next_event</th>\n      <th>id_artist</th>\n      <th>duration_s</th>\n    </tr>\n  </thead>\n  <tbody>\n    <tr>\n      <th>0</th>\n      <td>2020-10-21 20:41:02.953054</td>\n      <td>7iVl8jW3IzifFiXP0NpknS</td>\n      <td>49.730</td>\n      <td>1SQRv42e4PjEYfPhS0Tk9E</td>\n      <td>162.533</td>\n    </tr>\n    <tr>\n      <th>1</th>\n      <td>2020-10-21 20:44:09.486054</td>\n      <td>1mr9ZUNWfCUClBDhYbCErx</td>\n      <td>8.026</td>\n      <td>34jw2BbxjoYalTp8cJFCPv</td>\n      <td>220.415</td>\n    </tr>\n    <tr>\n      <th>2</th>\n      <td>2020-10-21 20:44:17.512054</td>\n      <td>5ITa72IsNdohe9gu2gDQQC</td>\n      <td>224.533</td>\n      <td>44NX2ffIYHr6D4n7RaZF7A</td>\n      <td>224.533</td>\n    </tr>\n    <tr>\n      <th>3</th>\n      <td>2020-10-21 20:48:02.045054</td>\n      <td>2Fkgr7LZTAjakkceB7PwN5</td>\n      <td>156.474</td>\n      <td>1Yox196W7bzVNZI7RBaPnf</td>\n      <td>374.827</td>\n    </tr>\n    <tr>\n      <th>4</th>\n      <td>2020-10-21 20:50:38.519054</td>\n      <td>6oPKcllvFYlDveYlyBuYXs</td>\n      <td>156.547</td>\n      <td>1eClJfHLoDI4rZe5HxzBFv</td>\n      <td>156.547</td>\n    </tr>\n  </tbody>\n</table>\n</div>"
     },
     "execution_count": 10,
     "metadata": {},
     "output_type": "execute_result"
    }
   ],
   "source": [
    "df_sessions = df_sessions.merge(df_artist_track, on=\"track_id\", how=\"left\")\n",
    "df_sessions.head()"
   ],
   "metadata": {
    "collapsed": false,
    "ExecuteTime": {
     "end_time": "2024-01-05T21:04:06.515539451Z",
     "start_time": "2024-01-05T21:04:04.226768875Z"
    }
   },
   "id": "aae37e09309beaeb"
  },
  {
   "cell_type": "code",
   "execution_count": 11,
   "outputs": [
    {
     "data": {
      "text/plain": "                   timestamp  next_event               id_artist  duration_s\n0 2020-10-21 20:41:02.953054      49.730  1SQRv42e4PjEYfPhS0Tk9E     162.533\n1 2020-10-21 20:44:09.486054       8.026  34jw2BbxjoYalTp8cJFCPv     220.415\n2 2020-10-21 20:44:17.512054     224.533  44NX2ffIYHr6D4n7RaZF7A     224.533\n3 2020-10-21 20:48:02.045054     156.474  1Yox196W7bzVNZI7RBaPnf     374.827\n4 2020-10-21 20:50:38.519054     156.547  1eClJfHLoDI4rZe5HxzBFv     156.547",
      "text/html": "<div>\n<style scoped>\n    .dataframe tbody tr th:only-of-type {\n        vertical-align: middle;\n    }\n\n    .dataframe tbody tr th {\n        vertical-align: top;\n    }\n\n    .dataframe thead th {\n        text-align: right;\n    }\n</style>\n<table border=\"1\" class=\"dataframe\">\n  <thead>\n    <tr style=\"text-align: right;\">\n      <th></th>\n      <th>timestamp</th>\n      <th>next_event</th>\n      <th>id_artist</th>\n      <th>duration_s</th>\n    </tr>\n  </thead>\n  <tbody>\n    <tr>\n      <th>0</th>\n      <td>2020-10-21 20:41:02.953054</td>\n      <td>49.730</td>\n      <td>1SQRv42e4PjEYfPhS0Tk9E</td>\n      <td>162.533</td>\n    </tr>\n    <tr>\n      <th>1</th>\n      <td>2020-10-21 20:44:09.486054</td>\n      <td>8.026</td>\n      <td>34jw2BbxjoYalTp8cJFCPv</td>\n      <td>220.415</td>\n    </tr>\n    <tr>\n      <th>2</th>\n      <td>2020-10-21 20:44:17.512054</td>\n      <td>224.533</td>\n      <td>44NX2ffIYHr6D4n7RaZF7A</td>\n      <td>224.533</td>\n    </tr>\n    <tr>\n      <th>3</th>\n      <td>2020-10-21 20:48:02.045054</td>\n      <td>156.474</td>\n      <td>1Yox196W7bzVNZI7RBaPnf</td>\n      <td>374.827</td>\n    </tr>\n    <tr>\n      <th>4</th>\n      <td>2020-10-21 20:50:38.519054</td>\n      <td>156.547</td>\n      <td>1eClJfHLoDI4rZe5HxzBFv</td>\n      <td>156.547</td>\n    </tr>\n  </tbody>\n</table>\n</div>"
     },
     "execution_count": 11,
     "metadata": {},
     "output_type": "execute_result"
    }
   ],
   "source": [
    "df_sessions.drop([\"track_id\"], axis=1, inplace=True)\n",
    "df_sessions.head()"
   ],
   "metadata": {
    "collapsed": false,
    "ExecuteTime": {
     "end_time": "2024-01-05T21:04:06.739969228Z",
     "start_time": "2024-01-05T21:04:06.517338492Z"
    }
   },
   "id": "cd11aa484569f69b"
  },
  {
   "cell_type": "code",
   "execution_count": 12,
   "outputs": [
    {
     "data": {
      "text/plain": "                   timestamp  next_event               id_artist  duration_s  \\\n0 2020-10-21 20:41:02.953054      49.730  1SQRv42e4PjEYfPhS0Tk9E     162.533   \n1 2020-10-21 20:44:09.486054       8.026  34jw2BbxjoYalTp8cJFCPv     220.415   \n2 2020-10-21 20:44:17.512054     224.533  44NX2ffIYHr6D4n7RaZF7A     224.533   \n3 2020-10-21 20:48:02.045054     156.474  1Yox196W7bzVNZI7RBaPnf     374.827   \n4 2020-10-21 20:50:38.519054     156.547  1eClJfHLoDI4rZe5HxzBFv     156.547   \n\n   song_duration  \n0         49.730  \n1          8.026  \n2        224.533  \n3        156.474  \n4        156.547  ",
      "text/html": "<div>\n<style scoped>\n    .dataframe tbody tr th:only-of-type {\n        vertical-align: middle;\n    }\n\n    .dataframe tbody tr th {\n        vertical-align: top;\n    }\n\n    .dataframe thead th {\n        text-align: right;\n    }\n</style>\n<table border=\"1\" class=\"dataframe\">\n  <thead>\n    <tr style=\"text-align: right;\">\n      <th></th>\n      <th>timestamp</th>\n      <th>next_event</th>\n      <th>id_artist</th>\n      <th>duration_s</th>\n      <th>song_duration</th>\n    </tr>\n  </thead>\n  <tbody>\n    <tr>\n      <th>0</th>\n      <td>2020-10-21 20:41:02.953054</td>\n      <td>49.730</td>\n      <td>1SQRv42e4PjEYfPhS0Tk9E</td>\n      <td>162.533</td>\n      <td>49.730</td>\n    </tr>\n    <tr>\n      <th>1</th>\n      <td>2020-10-21 20:44:09.486054</td>\n      <td>8.026</td>\n      <td>34jw2BbxjoYalTp8cJFCPv</td>\n      <td>220.415</td>\n      <td>8.026</td>\n    </tr>\n    <tr>\n      <th>2</th>\n      <td>2020-10-21 20:44:17.512054</td>\n      <td>224.533</td>\n      <td>44NX2ffIYHr6D4n7RaZF7A</td>\n      <td>224.533</td>\n      <td>224.533</td>\n    </tr>\n    <tr>\n      <th>3</th>\n      <td>2020-10-21 20:48:02.045054</td>\n      <td>156.474</td>\n      <td>1Yox196W7bzVNZI7RBaPnf</td>\n      <td>374.827</td>\n      <td>156.474</td>\n    </tr>\n    <tr>\n      <th>4</th>\n      <td>2020-10-21 20:50:38.519054</td>\n      <td>156.547</td>\n      <td>1eClJfHLoDI4rZe5HxzBFv</td>\n      <td>156.547</td>\n      <td>156.547</td>\n    </tr>\n  </tbody>\n</table>\n</div>"
     },
     "execution_count": 12,
     "metadata": {},
     "output_type": "execute_result"
    }
   ],
   "source": [
    "df_sessions[\"song_duration\"] = df_sessions[['duration_s', 'next_event']].min(axis=1)\n",
    "df_sessions.head()"
   ],
   "metadata": {
    "collapsed": false,
    "ExecuteTime": {
     "end_time": "2024-01-05T21:04:08.858569644Z",
     "start_time": "2024-01-05T21:04:06.818910031Z"
    }
   },
   "id": "d7be3a3e6c620387"
  },
  {
   "cell_type": "code",
   "execution_count": 13,
   "outputs": [
    {
     "data": {
      "text/plain": "(timestamp        13974795\n next_event       13974795\n id_artist        13974795\n duration_s       13974795\n song_duration    13974795\n dtype: int64,\n timestamp        31625\n next_event       31625\n id_artist        31625\n duration_s       31625\n song_duration    31625\n dtype: int64)"
     },
     "execution_count": 13,
     "metadata": {},
     "output_type": "execute_result"
    }
   ],
   "source": [
    "df_sessions[df_sessions[\"next_event\"] >= 0].count(), df_sessions[df_sessions[\"next_event\"] < 0].count() "
   ],
   "metadata": {
    "collapsed": false,
    "ExecuteTime": {
     "end_time": "2024-01-05T21:04:09.972316090Z",
     "start_time": "2024-01-05T21:04:08.846636376Z"
    }
   },
   "id": "b40d60d2ad7ba830"
  },
  {
   "cell_type": "code",
   "execution_count": 14,
   "outputs": [
    {
     "data": {
      "text/plain": "                   timestamp  next_event               id_artist  duration_s  \\\n0 2020-10-21 20:41:02.953054      49.730  1SQRv42e4PjEYfPhS0Tk9E     162.533   \n1 2020-10-21 20:44:09.486054       8.026  34jw2BbxjoYalTp8cJFCPv     220.415   \n2 2020-10-21 20:44:17.512054     224.533  44NX2ffIYHr6D4n7RaZF7A     224.533   \n3 2020-10-21 20:48:02.045054     156.474  1Yox196W7bzVNZI7RBaPnf     374.827   \n4 2020-10-21 20:50:38.519054     156.547  1eClJfHLoDI4rZe5HxzBFv     156.547   \n\n   song_duration  \n0         49.730  \n1          8.026  \n2        224.533  \n3        156.474  \n4        156.547  ",
      "text/html": "<div>\n<style scoped>\n    .dataframe tbody tr th:only-of-type {\n        vertical-align: middle;\n    }\n\n    .dataframe tbody tr th {\n        vertical-align: top;\n    }\n\n    .dataframe thead th {\n        text-align: right;\n    }\n</style>\n<table border=\"1\" class=\"dataframe\">\n  <thead>\n    <tr style=\"text-align: right;\">\n      <th></th>\n      <th>timestamp</th>\n      <th>next_event</th>\n      <th>id_artist</th>\n      <th>duration_s</th>\n      <th>song_duration</th>\n    </tr>\n  </thead>\n  <tbody>\n    <tr>\n      <th>0</th>\n      <td>2020-10-21 20:41:02.953054</td>\n      <td>49.730</td>\n      <td>1SQRv42e4PjEYfPhS0Tk9E</td>\n      <td>162.533</td>\n      <td>49.730</td>\n    </tr>\n    <tr>\n      <th>1</th>\n      <td>2020-10-21 20:44:09.486054</td>\n      <td>8.026</td>\n      <td>34jw2BbxjoYalTp8cJFCPv</td>\n      <td>220.415</td>\n      <td>8.026</td>\n    </tr>\n    <tr>\n      <th>2</th>\n      <td>2020-10-21 20:44:17.512054</td>\n      <td>224.533</td>\n      <td>44NX2ffIYHr6D4n7RaZF7A</td>\n      <td>224.533</td>\n      <td>224.533</td>\n    </tr>\n    <tr>\n      <th>3</th>\n      <td>2020-10-21 20:48:02.045054</td>\n      <td>156.474</td>\n      <td>1Yox196W7bzVNZI7RBaPnf</td>\n      <td>374.827</td>\n      <td>156.474</td>\n    </tr>\n    <tr>\n      <th>4</th>\n      <td>2020-10-21 20:50:38.519054</td>\n      <td>156.547</td>\n      <td>1eClJfHLoDI4rZe5HxzBFv</td>\n      <td>156.547</td>\n      <td>156.547</td>\n    </tr>\n  </tbody>\n</table>\n</div>"
     },
     "execution_count": 14,
     "metadata": {},
     "output_type": "execute_result"
    }
   ],
   "source": [
    "df_sessions_filtered = df_sessions[df_sessions[\"next_event\"] >= 0]\n",
    "df_sessions_filtered.head()"
   ],
   "metadata": {
    "collapsed": false,
    "ExecuteTime": {
     "end_time": "2024-01-05T21:04:10.397044782Z",
     "start_time": "2024-01-05T21:04:09.940190382Z"
    }
   },
   "id": "e7bd14280eab400f"
  },
  {
   "cell_type": "code",
   "execution_count": 15,
   "outputs": [
    {
     "data": {
      "text/plain": "                       timestamp  next_event               id_artist  \\\n38992 2023-10-01 22:24:53.588136     115.956  2ye2Wgw4gimLv2eAKyk1NB   \n38993 2023-10-01 22:28:31.981136     207.916  7z5WFjZAIYejWy0NI5lv4T   \n38994 2023-10-01 22:32:05.368136      58.730  2UazAtjfzqBF0Nho2awK4z   \n38995 2023-10-01 22:33:09.163136     172.160  1YqGsKpdixxSVgpfaL2AEQ   \n38996 2023-10-01 22:36:01.323136     170.424  1dfeR4HaWDbWqFHLkxsg1d   \n\n       duration_s  song_duration  \n38992     396.987        115.956  \n38993     213.387        207.916  \n38994     332.627         58.730  \n38995     172.160        172.160  \n38996     203.280        170.424  ",
      "text/html": "<div>\n<style scoped>\n    .dataframe tbody tr th:only-of-type {\n        vertical-align: middle;\n    }\n\n    .dataframe tbody tr th {\n        vertical-align: top;\n    }\n\n    .dataframe thead th {\n        text-align: right;\n    }\n</style>\n<table border=\"1\" class=\"dataframe\">\n  <thead>\n    <tr style=\"text-align: right;\">\n      <th></th>\n      <th>timestamp</th>\n      <th>next_event</th>\n      <th>id_artist</th>\n      <th>duration_s</th>\n      <th>song_duration</th>\n    </tr>\n  </thead>\n  <tbody>\n    <tr>\n      <th>38992</th>\n      <td>2023-10-01 22:24:53.588136</td>\n      <td>115.956</td>\n      <td>2ye2Wgw4gimLv2eAKyk1NB</td>\n      <td>396.987</td>\n      <td>115.956</td>\n    </tr>\n    <tr>\n      <th>38993</th>\n      <td>2023-10-01 22:28:31.981136</td>\n      <td>207.916</td>\n      <td>7z5WFjZAIYejWy0NI5lv4T</td>\n      <td>213.387</td>\n      <td>207.916</td>\n    </tr>\n    <tr>\n      <th>38994</th>\n      <td>2023-10-01 22:32:05.368136</td>\n      <td>58.730</td>\n      <td>2UazAtjfzqBF0Nho2awK4z</td>\n      <td>332.627</td>\n      <td>58.730</td>\n    </tr>\n    <tr>\n      <th>38995</th>\n      <td>2023-10-01 22:33:09.163136</td>\n      <td>172.160</td>\n      <td>1YqGsKpdixxSVgpfaL2AEQ</td>\n      <td>172.160</td>\n      <td>172.160</td>\n    </tr>\n    <tr>\n      <th>38996</th>\n      <td>2023-10-01 22:36:01.323136</td>\n      <td>170.424</td>\n      <td>1dfeR4HaWDbWqFHLkxsg1d</td>\n      <td>203.280</td>\n      <td>170.424</td>\n    </tr>\n  </tbody>\n</table>\n</div>"
     },
     "execution_count": 15,
     "metadata": {},
     "output_type": "execute_result"
    }
   ],
   "source": [
    "from datetime import datetime, timedelta\n",
    "DAY_OF_PREDICTION = datetime(day=30, month=10, year=2023)\n",
    "PERIOD_IN_DAYS = 30\n",
    "\n",
    "start_date = DAY_OF_PREDICTION - timedelta(days=PERIOD_IN_DAYS)\n",
    "df_sessions_filtered = df_sessions_filtered[df_sessions_filtered[\"timestamp\"] >= start_date]\n",
    "df_sessions_filtered.head()"
   ],
   "metadata": {
    "collapsed": false,
    "ExecuteTime": {
     "end_time": "2024-01-05T21:04:10.540507966Z",
     "start_time": "2024-01-05T21:04:10.396354192Z"
    }
   },
   "id": "82de7656a511e84"
  },
  {
   "cell_type": "code",
   "execution_count": 16,
   "outputs": [
    {
     "data": {
      "text/plain": "(1273616, 5)"
     },
     "execution_count": 16,
     "metadata": {},
     "output_type": "execute_result"
    }
   ],
   "source": [
    "df_sessions_filtered.shape"
   ],
   "metadata": {
    "collapsed": false,
    "ExecuteTime": {
     "end_time": "2024-01-05T21:04:10.540951510Z",
     "start_time": "2024-01-05T21:04:10.490061995Z"
    }
   },
   "id": "fac89c03c45d9506"
  },
  {
   "cell_type": "code",
   "execution_count": 17,
   "outputs": [],
   "source": [
    "avg_song_duration = df_sessions_filtered.groupby(\"id_artist\")[\"song_duration\"].mean()"
   ],
   "metadata": {
    "collapsed": false,
    "ExecuteTime": {
     "end_time": "2024-01-05T21:04:10.693070419Z",
     "start_time": "2024-01-05T21:04:10.534565970Z"
    }
   },
   "id": "71b2c1a6eb86d334"
  },
  {
   "cell_type": "code",
   "execution_count": 18,
   "outputs": [
    {
     "data": {
      "text/plain": "<Figure size 500x700 with 1 Axes>",
      "image/png": "[encoded data removed]"
     },
     "metadata": {},
     "output_type": "display_data"
    }
   ],
   "source": [
    "import matplotlib.pyplot as plt\n",
    "plt.figure(figsize=(5,7))\n",
    "plt.hist(avg_song_duration, bins=30)\n",
    "plt.show()\n"
   ],
   "metadata": {
    "collapsed": false,
    "ExecuteTime": {
     "end_time": "2024-01-05T21:04:11.049727783Z",
     "start_time": "2024-01-05T21:04:10.605756502Z"
    }
   },
   "id": "83f650c612a563fc"
  }
 ],
 "metadata": {
  "kernelspec": {
   "display_name": "Python 3",
   "language": "python",
   "name": "python3"
  },
  "language_info": {
   "codemirror_mode": {
    "name": "ipython",
    "version": 2
   },
   "file_extension": ".py",
   "mimetype": "text/x-python",
   "name": "python",
   "nbconvert_exporter": "python",
   "pygments_lexer": "ipython2",
   "version": "2.7.6"
  }
 },
 "nbformat": 4,
 "nbformat_minor": 5
}
