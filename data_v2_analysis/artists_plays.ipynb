{
 "cells": [
  {
   "cell_type": "code",
   "execution_count": 1,
   "id": "initial_id",
   "metadata": {
    "collapsed": true,
    "ExecuteTime": {
     "end_time": "2023-11-30T14:14:09.947275473Z",
     "start_time": "2023-11-30T14:14:09.786176887Z"
    }
   },
   "outputs": [],
   "source": [
    "import os\n",
    "import pandas as pd\n",
    "from config_file import data_path\n"
   ]
  },
  {
   "cell_type": "code",
   "execution_count": 3,
   "outputs": [
    {
     "data": {
      "text/plain": "                    timestamp                track_id\n0  2023-04-23 10:55:15.981821  67RumCZoIMSrMrmSJCMAyB\n1  2023-04-23 10:59:00.449821  5qN5zaiB1xHWFUMcDnk63i\n2  2023-04-23 11:00:48.431821  4aofUnCLfe1tTZtF603Alt\n3  2023-04-23 11:04:10.181821  6LxrH32gVsa254jEaDYHjb\n4  2023-04-23 11:05:15.336821  5LmqBIugWpgE9OA8jFk4i3",
      "text/html": "<div>\n<style scoped>\n    .dataframe tbody tr th:only-of-type {\n        vertical-align: middle;\n    }\n\n    .dataframe tbody tr th {\n        vertical-align: top;\n    }\n\n    .dataframe thead th {\n        text-align: right;\n    }\n</style>\n<table border=\"1\" class=\"dataframe\">\n  <thead>\n    <tr style=\"text-align: right;\">\n      <th></th>\n      <th>timestamp</th>\n      <th>track_id</th>\n    </tr>\n  </thead>\n  <tbody>\n    <tr>\n      <th>0</th>\n      <td>2023-04-23 10:55:15.981821</td>\n      <td>67RumCZoIMSrMrmSJCMAyB</td>\n    </tr>\n    <tr>\n      <th>1</th>\n      <td>2023-04-23 10:59:00.449821</td>\n      <td>5qN5zaiB1xHWFUMcDnk63i</td>\n    </tr>\n    <tr>\n      <th>2</th>\n      <td>2023-04-23 11:00:48.431821</td>\n      <td>4aofUnCLfe1tTZtF603Alt</td>\n    </tr>\n    <tr>\n      <th>3</th>\n      <td>2023-04-23 11:04:10.181821</td>\n      <td>6LxrH32gVsa254jEaDYHjb</td>\n    </tr>\n    <tr>\n      <th>4</th>\n      <td>2023-04-23 11:05:15.336821</td>\n      <td>5LmqBIugWpgE9OA8jFk4i3</td>\n    </tr>\n  </tbody>\n</table>\n</div>"
     },
     "execution_count": 3,
     "metadata": {},
     "output_type": "execute_result"
    }
   ],
   "source": [
    "df_sessions = pd.read_csv(os.path.join(data_path, 'sessions_timestamp_track.csv'))\n",
    "df_sessions.head()"
   ],
   "metadata": {
    "collapsed": false,
    "ExecuteTime": {
     "end_time": "2023-11-30T14:14:43.667003973Z",
     "start_time": "2023-11-30T14:14:43.414664901Z"
    }
   },
   "id": "145cc48b065c441e"
  },
  {
   "cell_type": "code",
   "execution_count": 4,
   "outputs": [],
   "source": [
    "df_sessions['timestamp'] = pd.to_datetime(df_sessions['timestamp'])"
   ],
   "metadata": {
    "collapsed": false,
    "ExecuteTime": {
     "end_time": "2023-11-30T14:15:10.885187670Z",
     "start_time": "2023-11-30T14:15:10.784067226Z"
    }
   },
   "id": "251a3ef08b650adc"
  },
  {
   "cell_type": "code",
   "execution_count": 5,
   "outputs": [
    {
     "data": {
      "text/plain": "(Timestamp('2019-10-08 19:22:41.020916'),\n Timestamp('2023-12-04 00:19:13.830956'))"
     },
     "execution_count": 5,
     "metadata": {},
     "output_type": "execute_result"
    }
   ],
   "source": [
    "df_sessions['timestamp'].min(), df_sessions['timestamp'].max()"
   ],
   "metadata": {
    "collapsed": false,
    "ExecuteTime": {
     "end_time": "2023-11-30T14:15:21.167364729Z",
     "start_time": "2023-11-30T14:15:21.161427847Z"
    }
   },
   "id": "f2538478bf6f6f16"
  },
  {
   "cell_type": "code",
   "execution_count": 7,
   "outputs": [
    {
     "data": {
      "text/plain": "                       id               id_artist\n0  6C0WWu7RYKbAgWUI3YC0sT  7u710e44HW3K7A5eTnRqHC\n1  4q7EBRq8ncztC2PRmEC7Fy  3sFhA6G1N0gG1pszb6kk1m\n2  7cNyONpVADZVrW9xe3qq4z  7IAXZaLTb6nkJr8RmVPn5y\n3  1bKRTzTFz7wHMxpgZSuPR1  5bOsFzuJ6QZMr86ezC4oXY\n4  56OEjuyZ3AROnv4aR1XqhD  6zJ7WZkyTNmB1bFdmHH2k9",
      "text/html": "<div>\n<style scoped>\n    .dataframe tbody tr th:only-of-type {\n        vertical-align: middle;\n    }\n\n    .dataframe tbody tr th {\n        vertical-align: top;\n    }\n\n    .dataframe thead th {\n        text-align: right;\n    }\n</style>\n<table border=\"1\" class=\"dataframe\">\n  <thead>\n    <tr style=\"text-align: right;\">\n      <th></th>\n      <th>id</th>\n      <th>id_artist</th>\n    </tr>\n  </thead>\n  <tbody>\n    <tr>\n      <th>0</th>\n      <td>6C0WWu7RYKbAgWUI3YC0sT</td>\n      <td>7u710e44HW3K7A5eTnRqHC</td>\n    </tr>\n    <tr>\n      <th>1</th>\n      <td>4q7EBRq8ncztC2PRmEC7Fy</td>\n      <td>3sFhA6G1N0gG1pszb6kk1m</td>\n    </tr>\n    <tr>\n      <th>2</th>\n      <td>7cNyONpVADZVrW9xe3qq4z</td>\n      <td>7IAXZaLTb6nkJr8RmVPn5y</td>\n    </tr>\n    <tr>\n      <th>3</th>\n      <td>1bKRTzTFz7wHMxpgZSuPR1</td>\n      <td>5bOsFzuJ6QZMr86ezC4oXY</td>\n    </tr>\n    <tr>\n      <th>4</th>\n      <td>56OEjuyZ3AROnv4aR1XqhD</td>\n      <td>6zJ7WZkyTNmB1bFdmHH2k9</td>\n    </tr>\n  </tbody>\n</table>\n</div>"
     },
     "execution_count": 7,
     "metadata": {},
     "output_type": "execute_result"
    }
   ],
   "source": [
    "df_tracks = pd.read_csv(os.path.join(data_path, 'tracks_ids.csv'))\n",
    "df_tracks.head()"
   ],
   "metadata": {
    "collapsed": false,
    "ExecuteTime": {
     "end_time": "2023-11-30T14:17:03.500330794Z",
     "start_time": "2023-11-30T14:17:03.373075614Z"
    }
   },
   "id": "a74b612b46496861"
  },
  {
   "cell_type": "code",
   "execution_count": 14,
   "outputs": [
    {
     "data": {
      "text/plain": "                 track_id               id_artist\n0  6C0WWu7RYKbAgWUI3YC0sT  7u710e44HW3K7A5eTnRqHC\n1  4q7EBRq8ncztC2PRmEC7Fy  3sFhA6G1N0gG1pszb6kk1m\n2  7cNyONpVADZVrW9xe3qq4z  7IAXZaLTb6nkJr8RmVPn5y\n3  1bKRTzTFz7wHMxpgZSuPR1  5bOsFzuJ6QZMr86ezC4oXY\n4  56OEjuyZ3AROnv4aR1XqhD  6zJ7WZkyTNmB1bFdmHH2k9",
      "text/html": "<div>\n<style scoped>\n    .dataframe tbody tr th:only-of-type {\n        vertical-align: middle;\n    }\n\n    .dataframe tbody tr th {\n        vertical-align: top;\n    }\n\n    .dataframe thead th {\n        text-align: right;\n    }\n</style>\n<table border=\"1\" class=\"dataframe\">\n  <thead>\n    <tr style=\"text-align: right;\">\n      <th></th>\n      <th>track_id</th>\n      <th>id_artist</th>\n    </tr>\n  </thead>\n  <tbody>\n    <tr>\n      <th>0</th>\n      <td>6C0WWu7RYKbAgWUI3YC0sT</td>\n      <td>7u710e44HW3K7A5eTnRqHC</td>\n    </tr>\n    <tr>\n      <th>1</th>\n      <td>4q7EBRq8ncztC2PRmEC7Fy</td>\n      <td>3sFhA6G1N0gG1pszb6kk1m</td>\n    </tr>\n    <tr>\n      <th>2</th>\n      <td>7cNyONpVADZVrW9xe3qq4z</td>\n      <td>7IAXZaLTb6nkJr8RmVPn5y</td>\n    </tr>\n    <tr>\n      <th>3</th>\n      <td>1bKRTzTFz7wHMxpgZSuPR1</td>\n      <td>5bOsFzuJ6QZMr86ezC4oXY</td>\n    </tr>\n    <tr>\n      <th>4</th>\n      <td>56OEjuyZ3AROnv4aR1XqhD</td>\n      <td>6zJ7WZkyTNmB1bFdmHH2k9</td>\n    </tr>\n  </tbody>\n</table>\n</div>"
     },
     "execution_count": 14,
     "metadata": {},
     "output_type": "execute_result"
    }
   ],
   "source": [
    "df_tracks.rename(columns={'id': 'track_id'}, inplace=True)\n",
    "df_tracks.head()"
   ],
   "metadata": {
    "collapsed": false,
    "ExecuteTime": {
     "end_time": "2023-11-30T14:25:52.142545852Z",
     "start_time": "2023-11-30T14:25:52.114707015Z"
    }
   },
   "id": "4e3681d444eb7ed0"
  },
  {
   "cell_type": "code",
   "execution_count": 13,
   "outputs": [
    {
     "data": {
      "text/plain": "(Index(['id', 'id_artist'], dtype='object'),\n Index(['timestamp', 'track_id'], dtype='object'))"
     },
     "execution_count": 13,
     "metadata": {},
     "output_type": "execute_result"
    }
   ],
   "source": [
    "df_tracks.columns, df_sessions.columns"
   ],
   "metadata": {
    "collapsed": false,
    "ExecuteTime": {
     "end_time": "2023-11-30T14:23:44.435629383Z",
     "start_time": "2023-11-30T14:23:44.391932853Z"
    }
   },
   "id": "77d5641cc3c05bac"
  },
  {
   "cell_type": "code",
   "execution_count": 16,
   "outputs": [
    {
     "data": {
      "text/plain": "                   timestamp               id_artist\n0 2023-04-23 10:55:15.981821  0k17h0D3J5VfsdmQ1iZtE9\n1 2023-09-24 22:59:40.227474  0k17h0D3J5VfsdmQ1iZtE9\n2 2023-04-23 10:02:26.798940  0k17h0D3J5VfsdmQ1iZtE9\n3 2023-05-07 16:45:18.572148  0k17h0D3J5VfsdmQ1iZtE9\n4 2022-12-26 00:35:53.980977  0k17h0D3J5VfsdmQ1iZtE9",
      "text/html": "<div>\n<style scoped>\n    .dataframe tbody tr th:only-of-type {\n        vertical-align: middle;\n    }\n\n    .dataframe tbody tr th {\n        vertical-align: top;\n    }\n\n    .dataframe thead th {\n        text-align: right;\n    }\n</style>\n<table border=\"1\" class=\"dataframe\">\n  <thead>\n    <tr style=\"text-align: right;\">\n      <th></th>\n      <th>timestamp</th>\n      <th>id_artist</th>\n    </tr>\n  </thead>\n  <tbody>\n    <tr>\n      <th>0</th>\n      <td>2023-04-23 10:55:15.981821</td>\n      <td>0k17h0D3J5VfsdmQ1iZtE9</td>\n    </tr>\n    <tr>\n      <th>1</th>\n      <td>2023-09-24 22:59:40.227474</td>\n      <td>0k17h0D3J5VfsdmQ1iZtE9</td>\n    </tr>\n    <tr>\n      <th>2</th>\n      <td>2023-04-23 10:02:26.798940</td>\n      <td>0k17h0D3J5VfsdmQ1iZtE9</td>\n    </tr>\n    <tr>\n      <th>3</th>\n      <td>2023-05-07 16:45:18.572148</td>\n      <td>0k17h0D3J5VfsdmQ1iZtE9</td>\n    </tr>\n    <tr>\n      <th>4</th>\n      <td>2022-12-26 00:35:53.980977</td>\n      <td>0k17h0D3J5VfsdmQ1iZtE9</td>\n    </tr>\n  </tbody>\n</table>\n</div>"
     },
     "execution_count": 16,
     "metadata": {},
     "output_type": "execute_result"
    }
   ],
   "source": [
    "df_session_artist = df_sessions.merge(df_tracks, on='track_id')\n",
    "df_session_artist = df_session_artist[['timestamp', 'id_artist']]\n",
    "df_session_artist.head()"
   ],
   "metadata": {
    "collapsed": false,
    "ExecuteTime": {
     "end_time": "2023-11-30T14:27:27.926548545Z",
     "start_time": "2023-11-30T14:27:27.848948831Z"
    }
   },
   "id": "50d404f7d2aa3b32"
  },
  {
   "cell_type": "code",
   "execution_count": 20,
   "outputs": [],
   "source": [
    "df_artists = pd.read_csv(os.path.join(data_path, 'artists_ids.csv'))"
   ],
   "metadata": {
    "collapsed": false,
    "ExecuteTime": {
     "end_time": "2023-11-30T14:29:26.670277796Z",
     "start_time": "2023-11-30T14:29:26.631752717Z"
    }
   },
   "id": "d15263888376e876"
  },
  {
   "cell_type": "code",
   "execution_count": 21,
   "outputs": [
    {
     "data": {
      "text/plain": "(794, 27650)"
     },
     "execution_count": 21,
     "metadata": {},
     "output_type": "execute_result"
    }
   ],
   "source": [
    "len(df_session_artist['id_artist'].unique()), len(df_artists['id'].unique())"
   ],
   "metadata": {
    "collapsed": false,
    "ExecuteTime": {
     "end_time": "2023-11-30T14:29:36.732795693Z",
     "start_time": "2023-11-30T14:29:36.715712436Z"
    }
   },
   "id": "1cfb0a4e49a88148"
  },
  {
   "cell_type": "code",
   "execution_count": 51,
   "outputs": [
    {
     "data": {
      "text/plain": "                        count\nid_artist                    \n4AK6F7OLvEQ5QYCBNiQWHq  11529\n15UsOTVnJzReFVN1VCnxy4   8660\n711MCceyCBcFnzjGY4Q7Un   6098\n3klZnJvYGIbWritVwQD434   5782\n0eDvMgVFoNV3TpwtrVCoTj   5765\n...                       ...\n73UIalJYgktSi7qQFV53Qv      4\n0mXTJETA4XUa12MmmXxZJh      3\n1uFixbBAduJkFAeRKznkvW      3\n6OiHleP2bHM18dXq4aZQWt      3\n1kNQXvepPjaPgUfeDAF2h6      3\n\n[794 rows x 1 columns]",
      "text/html": "<div>\n<style scoped>\n    .dataframe tbody tr th:only-of-type {\n        vertical-align: middle;\n    }\n\n    .dataframe tbody tr th {\n        vertical-align: top;\n    }\n\n    .dataframe thead th {\n        text-align: right;\n    }\n</style>\n<table border=\"1\" class=\"dataframe\">\n  <thead>\n    <tr style=\"text-align: right;\">\n      <th></th>\n      <th>count</th>\n    </tr>\n    <tr>\n      <th>id_artist</th>\n      <th></th>\n    </tr>\n  </thead>\n  <tbody>\n    <tr>\n      <th>4AK6F7OLvEQ5QYCBNiQWHq</th>\n      <td>11529</td>\n    </tr>\n    <tr>\n      <th>15UsOTVnJzReFVN1VCnxy4</th>\n      <td>8660</td>\n    </tr>\n    <tr>\n      <th>711MCceyCBcFnzjGY4Q7Un</th>\n      <td>6098</td>\n    </tr>\n    <tr>\n      <th>3klZnJvYGIbWritVwQD434</th>\n      <td>5782</td>\n    </tr>\n    <tr>\n      <th>0eDvMgVFoNV3TpwtrVCoTj</th>\n      <td>5765</td>\n    </tr>\n    <tr>\n      <th>...</th>\n      <td>...</td>\n    </tr>\n    <tr>\n      <th>73UIalJYgktSi7qQFV53Qv</th>\n      <td>4</td>\n    </tr>\n    <tr>\n      <th>0mXTJETA4XUa12MmmXxZJh</th>\n      <td>3</td>\n    </tr>\n    <tr>\n      <th>1uFixbBAduJkFAeRKznkvW</th>\n      <td>3</td>\n    </tr>\n    <tr>\n      <th>6OiHleP2bHM18dXq4aZQWt</th>\n      <td>3</td>\n    </tr>\n    <tr>\n      <th>1kNQXvepPjaPgUfeDAF2h6</th>\n      <td>3</td>\n    </tr>\n  </tbody>\n</table>\n<p>794 rows × 1 columns</p>\n</div>"
     },
     "execution_count": 51,
     "metadata": {},
     "output_type": "execute_result"
    }
   ],
   "source": [
    "# plot the number of session per artist\n",
    "session_counts = df_session_artist['id_artist'].value_counts()\n",
    "df_session_counts = pd.DataFrame(session_counts)\n",
    "df_session_counts"
   ],
   "metadata": {
    "collapsed": false,
    "ExecuteTime": {
     "end_time": "2023-11-30T14:41:54.090071346Z",
     "start_time": "2023-11-30T14:41:54.046114041Z"
    }
   },
   "id": "e804395341eaad7b"
  },
  {
   "cell_type": "code",
   "execution_count": 53,
   "outputs": [
    {
     "data": {
      "text/plain": "<Figure size 640x480 with 1 Axes>",
      "image/png": "[encoded data removed]"
     },
     "metadata": {},
     "output_type": "display_data"
    }
   ],
   "source": [
    "\n",
    "session_counts_list = df_session_counts['count'].tolist()\n",
    "# hist plot session counts list\n",
    "import matplotlib.pyplot as plt\n",
    "plt.hist(session_counts_list, bins=100)\n",
    "plt.show()"
   ],
   "metadata": {
    "collapsed": false,
    "ExecuteTime": {
     "end_time": "2023-11-30T14:45:18.461907895Z",
     "start_time": "2023-11-30T14:45:18.296656547Z"
    }
   },
   "id": "6634729aba64f2df"
  },
  {
   "cell_type": "code",
   "execution_count": 54,
   "outputs": [
    {
     "data": {
      "text/plain": "<Figure size 640x480 with 1 Axes>",
      "image/png": "[encoded data removed]"
     },
     "metadata": {},
     "output_type": "display_data"
    }
   ],
   "source": [
    "# normalize session counts list and plot\n",
    "import numpy as np\n",
    "session_counts_list_norm = np.array(session_counts_list)\n",
    "session_counts_list_norm = session_counts_list_norm / session_counts_list_norm.sum()\n",
    "plt.hist(session_counts_list_norm, bins=100)\n",
    "plt.show()"
   ],
   "metadata": {
    "collapsed": false,
    "ExecuteTime": {
     "end_time": "2023-11-30T14:45:50.585093853Z",
     "start_time": "2023-11-30T14:45:50.329587289Z"
    }
   },
   "id": "72d6934a83395c05"
  },
  {
   "cell_type": "code",
   "execution_count": 48,
   "outputs": [
    {
     "data": {
      "text/plain": "<Figure size 640x480 with 1 Axes>",
      "image/png": "[encoded data removed]"
     },
     "metadata": {},
     "output_type": "display_data"
    }
   ],
   "source": [
    "# box plot session counts list\n",
    "plt.boxplot(session_counts_list)\n",
    "plt.show()"
   ],
   "metadata": {
    "collapsed": false,
    "ExecuteTime": {
     "end_time": "2023-11-30T14:38:09.668476130Z",
     "start_time": "2023-11-30T14:38:09.557711698Z"
    }
   },
   "id": "568add9452b0e6ed"
  },
  {
   "cell_type": "code",
   "execution_count": 55,
   "outputs": [
    {
     "data": {
      "text/plain": "<Figure size 640x480 with 1 Axes>",
      "image/png": "[encoded data removed]"
     },
     "metadata": {},
     "output_type": "display_data"
    }
   ],
   "source": [
    "plt.hist(session_counts_list[:100], bins=100)\n",
    "plt.show()"
   ],
   "metadata": {
    "collapsed": false,
    "ExecuteTime": {
     "end_time": "2023-11-30T14:45:57.968298295Z",
     "start_time": "2023-11-30T14:45:57.753940645Z"
    }
   },
   "id": "ed7916606ad72ab5"
  },
  {
   "cell_type": "markdown",
   "source": [
    "## summary\n",
    "1. (794, 27650) - arists played in sessions and artists in the dataset\n",
    "2. most of artists are played sporadically"
   ],
   "metadata": {
    "collapsed": false
   },
   "id": "771fc46ce03cd7d4"
  }
 ],
 "metadata": {
  "kernelspec": {
   "display_name": "Python 3",
   "language": "python",
   "name": "python3"
  },
  "language_info": {
   "codemirror_mode": {
    "name": "ipython",
    "version": 2
   },
   "file_extension": ".py",
   "mimetype": "text/x-python",
   "name": "python",
   "nbconvert_exporter": "python",
   "pygments_lexer": "ipython2",
   "version": "2.7.6"
  }
 },
 "nbformat": 4,
 "nbformat_minor": 5
}
