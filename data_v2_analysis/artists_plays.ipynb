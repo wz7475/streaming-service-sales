{
 "cells": [
  {
   "cell_type": "code",
   "execution_count": 1,
   "id": "initial_id",
   "metadata": {
    "collapsed": true,
    "ExecuteTime": {
     "end_time": "2023-11-30T15:01:31.152898144Z",
     "start_time": "2023-11-30T15:01:31.005341696Z"
    }
   },
   "outputs": [],
   "source": [
    "import os\n",
    "import pandas as pd\n",
    "from config_file import data_path\n"
   ]
  },
  {
   "cell_type": "code",
   "execution_count": 2,
   "outputs": [
    {
     "data": {
      "text/plain": "                    timestamp                track_id\n0  2020-10-21 20:41:02.953054  46JGVfEEiBScTaiP3Bnh27\n1  2020-10-21 20:42:01.245054  6s8q3fQNcayP7yEFpuF3wz\n2  2020-10-21 20:45:17.538054  3gs2PO5BKRG9oVUDvi59b2\n3  2020-10-21 20:49:23.591054  0eNGwmFaIeEKQgudTcs1rV\n4  2020-10-21 20:55:47.137054  2ifYUfvMNbXQDPJEyk68rP",
      "text/html": "<div>\n<style scoped>\n    .dataframe tbody tr th:only-of-type {\n        vertical-align: middle;\n    }\n\n    .dataframe tbody tr th {\n        vertical-align: top;\n    }\n\n    .dataframe thead th {\n        text-align: right;\n    }\n</style>\n<table border=\"1\" class=\"dataframe\">\n  <thead>\n    <tr style=\"text-align: right;\">\n      <th></th>\n      <th>timestamp</th>\n      <th>track_id</th>\n    </tr>\n  </thead>\n  <tbody>\n    <tr>\n      <th>0</th>\n      <td>2020-10-21 20:41:02.953054</td>\n      <td>46JGVfEEiBScTaiP3Bnh27</td>\n    </tr>\n    <tr>\n      <th>1</th>\n      <td>2020-10-21 20:42:01.245054</td>\n      <td>6s8q3fQNcayP7yEFpuF3wz</td>\n    </tr>\n    <tr>\n      <th>2</th>\n      <td>2020-10-21 20:45:17.538054</td>\n      <td>3gs2PO5BKRG9oVUDvi59b2</td>\n    </tr>\n    <tr>\n      <th>3</th>\n      <td>2020-10-21 20:49:23.591054</td>\n      <td>0eNGwmFaIeEKQgudTcs1rV</td>\n    </tr>\n    <tr>\n      <th>4</th>\n      <td>2020-10-21 20:55:47.137054</td>\n      <td>2ifYUfvMNbXQDPJEyk68rP</td>\n    </tr>\n  </tbody>\n</table>\n</div>"
     },
     "execution_count": 2,
     "metadata": {},
     "output_type": "execute_result"
    }
   ],
   "source": [
    "df_sessions = pd.read_csv(os.path.join(data_path, 'sessions_timestamp_track.csv'))\n",
    "df_sessions.head()"
   ],
   "metadata": {
    "collapsed": false,
    "ExecuteTime": {
     "end_time": "2023-11-30T15:01:39.973825665Z",
     "start_time": "2023-11-30T15:01:31.155557318Z"
    }
   },
   "id": "145cc48b065c441e"
  },
  {
   "cell_type": "code",
   "execution_count": 3,
   "outputs": [
    {
     "data": {
      "text/plain": "(13741737, 2)"
     },
     "execution_count": 3,
     "metadata": {},
     "output_type": "execute_result"
    }
   ],
   "source": [
    "df_sessions.shape"
   ],
   "metadata": {
    "collapsed": false,
    "ExecuteTime": {
     "end_time": "2023-11-30T15:01:40.018848627Z",
     "start_time": "2023-11-30T15:01:39.976595385Z"
    }
   },
   "id": "917783457786d123"
  },
  {
   "cell_type": "markdown",
   "source": [
    "23'613'691\n",
    "\n",
    "13'741'737"
   ],
   "metadata": {
    "collapsed": false
   },
   "id": "4ec8b88f3f9b2303"
  },
  {
   "cell_type": "code",
   "execution_count": 4,
   "outputs": [
    {
     "data": {
      "text/plain": "                       id               id_artist\n0  6C0WWu7RYKbAgWUI3YC0sT  7u710e44HW3K7A5eTnRqHC\n1  4q7EBRq8ncztC2PRmEC7Fy  3sFhA6G1N0gG1pszb6kk1m\n2  7cNyONpVADZVrW9xe3qq4z  7IAXZaLTb6nkJr8RmVPn5y\n3  1bKRTzTFz7wHMxpgZSuPR1  5bOsFzuJ6QZMr86ezC4oXY\n4  56OEjuyZ3AROnv4aR1XqhD  6zJ7WZkyTNmB1bFdmHH2k9",
      "text/html": "<div>\n<style scoped>\n    .dataframe tbody tr th:only-of-type {\n        vertical-align: middle;\n    }\n\n    .dataframe tbody tr th {\n        vertical-align: top;\n    }\n\n    .dataframe thead th {\n        text-align: right;\n    }\n</style>\n<table border=\"1\" class=\"dataframe\">\n  <thead>\n    <tr style=\"text-align: right;\">\n      <th></th>\n      <th>id</th>\n      <th>id_artist</th>\n    </tr>\n  </thead>\n  <tbody>\n    <tr>\n      <th>0</th>\n      <td>6C0WWu7RYKbAgWUI3YC0sT</td>\n      <td>7u710e44HW3K7A5eTnRqHC</td>\n    </tr>\n    <tr>\n      <th>1</th>\n      <td>4q7EBRq8ncztC2PRmEC7Fy</td>\n      <td>3sFhA6G1N0gG1pszb6kk1m</td>\n    </tr>\n    <tr>\n      <th>2</th>\n      <td>7cNyONpVADZVrW9xe3qq4z</td>\n      <td>7IAXZaLTb6nkJr8RmVPn5y</td>\n    </tr>\n    <tr>\n      <th>3</th>\n      <td>1bKRTzTFz7wHMxpgZSuPR1</td>\n      <td>5bOsFzuJ6QZMr86ezC4oXY</td>\n    </tr>\n    <tr>\n      <th>4</th>\n      <td>56OEjuyZ3AROnv4aR1XqhD</td>\n      <td>6zJ7WZkyTNmB1bFdmHH2k9</td>\n    </tr>\n  </tbody>\n</table>\n</div>"
     },
     "execution_count": 4,
     "metadata": {},
     "output_type": "execute_result"
    }
   ],
   "source": [
    "df_tracks = pd.read_csv(os.path.join(data_path, 'tracks_ids.csv'))\n",
    "df_tracks.head()"
   ],
   "metadata": {
    "collapsed": false,
    "ExecuteTime": {
     "end_time": "2023-11-30T15:01:40.130857397Z",
     "start_time": "2023-11-30T15:01:39.979450658Z"
    }
   },
   "id": "a74b612b46496861"
  },
  {
   "cell_type": "code",
   "execution_count": 5,
   "outputs": [
    {
     "data": {
      "text/plain": "                 track_id               id_artist\n0  6C0WWu7RYKbAgWUI3YC0sT  7u710e44HW3K7A5eTnRqHC\n1  4q7EBRq8ncztC2PRmEC7Fy  3sFhA6G1N0gG1pszb6kk1m\n2  7cNyONpVADZVrW9xe3qq4z  7IAXZaLTb6nkJr8RmVPn5y\n3  1bKRTzTFz7wHMxpgZSuPR1  5bOsFzuJ6QZMr86ezC4oXY\n4  56OEjuyZ3AROnv4aR1XqhD  6zJ7WZkyTNmB1bFdmHH2k9",
      "text/html": "<div>\n<style scoped>\n    .dataframe tbody tr th:only-of-type {\n        vertical-align: middle;\n    }\n\n    .dataframe tbody tr th {\n        vertical-align: top;\n    }\n\n    .dataframe thead th {\n        text-align: right;\n    }\n</style>\n<table border=\"1\" class=\"dataframe\">\n  <thead>\n    <tr style=\"text-align: right;\">\n      <th></th>\n      <th>track_id</th>\n      <th>id_artist</th>\n    </tr>\n  </thead>\n  <tbody>\n    <tr>\n      <th>0</th>\n      <td>6C0WWu7RYKbAgWUI3YC0sT</td>\n      <td>7u710e44HW3K7A5eTnRqHC</td>\n    </tr>\n    <tr>\n      <th>1</th>\n      <td>4q7EBRq8ncztC2PRmEC7Fy</td>\n      <td>3sFhA6G1N0gG1pszb6kk1m</td>\n    </tr>\n    <tr>\n      <th>2</th>\n      <td>7cNyONpVADZVrW9xe3qq4z</td>\n      <td>7IAXZaLTb6nkJr8RmVPn5y</td>\n    </tr>\n    <tr>\n      <th>3</th>\n      <td>1bKRTzTFz7wHMxpgZSuPR1</td>\n      <td>5bOsFzuJ6QZMr86ezC4oXY</td>\n    </tr>\n    <tr>\n      <th>4</th>\n      <td>56OEjuyZ3AROnv4aR1XqhD</td>\n      <td>6zJ7WZkyTNmB1bFdmHH2k9</td>\n    </tr>\n  </tbody>\n</table>\n</div>"
     },
     "execution_count": 5,
     "metadata": {},
     "output_type": "execute_result"
    }
   ],
   "source": [
    "df_tracks.rename(columns={'id': 'track_id'}, inplace=True)\n",
    "df_tracks.head()"
   ],
   "metadata": {
    "collapsed": false,
    "ExecuteTime": {
     "end_time": "2023-11-30T15:01:40.235530494Z",
     "start_time": "2023-11-30T15:01:40.094184946Z"
    }
   },
   "id": "4e3681d444eb7ed0"
  },
  {
   "cell_type": "code",
   "execution_count": 6,
   "outputs": [
    {
     "data": {
      "text/plain": "(Index(['track_id', 'id_artist'], dtype='object'),\n Index(['timestamp', 'track_id'], dtype='object'))"
     },
     "execution_count": 6,
     "metadata": {},
     "output_type": "execute_result"
    }
   ],
   "source": [
    "df_tracks.columns, df_sessions.columns"
   ],
   "metadata": {
    "collapsed": false,
    "ExecuteTime": {
     "end_time": "2023-11-30T15:01:40.235867334Z",
     "start_time": "2023-11-30T15:01:40.141378549Z"
    }
   },
   "id": "77d5641cc3c05bac"
  },
  {
   "cell_type": "code",
   "execution_count": 17,
   "outputs": [],
   "source": [
    "df_session_artist = df_sessions.merge(df_tracks, on='track_id')\n",
    "df_session_artist = df_session_artist[['timestamp', 'id_artist']]"
   ],
   "metadata": {
    "collapsed": false,
    "ExecuteTime": {
     "end_time": "2023-11-30T15:03:08.463067588Z",
     "start_time": "2023-11-30T15:03:03.461028726Z"
    }
   },
   "id": "50d404f7d2aa3b32"
  },
  {
   "cell_type": "code",
   "execution_count": 18,
   "outputs": [
    {
     "data": {
      "text/plain": "                    timestamp               id_artist\n0  2020-10-21 20:41:02.953054  3WrFJ7ztbogyGnTHbHJFl2\n1  2021-11-13 12:44:57.412048  3WrFJ7ztbogyGnTHbHJFl2\n2  2022-01-15 04:24:33.756178  3WrFJ7ztbogyGnTHbHJFl2\n3  2022-04-23 00:54:15.696817  3WrFJ7ztbogyGnTHbHJFl2\n4  2022-05-10 13:27:02.447994  3WrFJ7ztbogyGnTHbHJFl2",
      "text/html": "<div>\n<style scoped>\n    .dataframe tbody tr th:only-of-type {\n        vertical-align: middle;\n    }\n\n    .dataframe tbody tr th {\n        vertical-align: top;\n    }\n\n    .dataframe thead th {\n        text-align: right;\n    }\n</style>\n<table border=\"1\" class=\"dataframe\">\n  <thead>\n    <tr style=\"text-align: right;\">\n      <th></th>\n      <th>timestamp</th>\n      <th>id_artist</th>\n    </tr>\n  </thead>\n  <tbody>\n    <tr>\n      <th>0</th>\n      <td>2020-10-21 20:41:02.953054</td>\n      <td>3WrFJ7ztbogyGnTHbHJFl2</td>\n    </tr>\n    <tr>\n      <th>1</th>\n      <td>2021-11-13 12:44:57.412048</td>\n      <td>3WrFJ7ztbogyGnTHbHJFl2</td>\n    </tr>\n    <tr>\n      <th>2</th>\n      <td>2022-01-15 04:24:33.756178</td>\n      <td>3WrFJ7ztbogyGnTHbHJFl2</td>\n    </tr>\n    <tr>\n      <th>3</th>\n      <td>2022-04-23 00:54:15.696817</td>\n      <td>3WrFJ7ztbogyGnTHbHJFl2</td>\n    </tr>\n    <tr>\n      <th>4</th>\n      <td>2022-05-10 13:27:02.447994</td>\n      <td>3WrFJ7ztbogyGnTHbHJFl2</td>\n    </tr>\n  </tbody>\n</table>\n</div>"
     },
     "execution_count": 18,
     "metadata": {},
     "output_type": "execute_result"
    }
   ],
   "source": [
    "df_session_artist.head()"
   ],
   "metadata": {
    "collapsed": false,
    "ExecuteTime": {
     "end_time": "2023-11-30T15:03:19.972149844Z",
     "start_time": "2023-11-30T15:03:19.946332026Z"
    }
   },
   "id": "b8fa53f81ac391df"
  },
  {
   "cell_type": "code",
   "execution_count": 19,
   "outputs": [
    {
     "data": {
      "text/plain": "(13741714, 2)"
     },
     "execution_count": 19,
     "metadata": {},
     "output_type": "execute_result"
    }
   ],
   "source": [
    "df_session_artist.shape"
   ],
   "metadata": {
    "collapsed": false,
    "ExecuteTime": {
     "end_time": "2023-11-30T15:03:27.822426973Z",
     "start_time": "2023-11-30T15:03:27.810074435Z"
    }
   },
   "id": "77517724e47b27af"
  },
  {
   "cell_type": "code",
   "execution_count": 8,
   "outputs": [],
   "source": [
    "df_artists = pd.read_csv(os.path.join(data_path, 'artists_ids.csv'))"
   ],
   "metadata": {
    "collapsed": false,
    "ExecuteTime": {
     "end_time": "2023-11-30T15:01:46.377343986Z",
     "start_time": "2023-11-30T15:01:46.364283335Z"
    }
   },
   "id": "d15263888376e876"
  },
  {
   "cell_type": "code",
   "execution_count": 20,
   "outputs": [
    {
     "data": {
      "text/plain": "(794, 27650)"
     },
     "execution_count": 20,
     "metadata": {},
     "output_type": "execute_result"
    }
   ],
   "source": [
    "len(df_session_artist['id_artist'].unique()), len(df_artists['id'].unique())"
   ],
   "metadata": {
    "collapsed": false,
    "ExecuteTime": {
     "end_time": "2023-11-30T15:03:42.738736810Z",
     "start_time": "2023-11-30T15:03:42.252406232Z"
    }
   },
   "id": "1cfb0a4e49a88148"
  },
  {
   "cell_type": "code",
   "execution_count": 10,
   "outputs": [
    {
     "data": {
      "text/plain": "                         count\nid_artist                     \n4AK6F7OLvEQ5QYCBNiQWHq  280516\n15UsOTVnJzReFVN1VCnxy4  210671\n1dfeR4HaWDbWqFHLkxsg1d  189387\n711MCceyCBcFnzjGY4Q7Un  172201\n08GQAI4eElDnROBrJRGE0X  158724\n...                        ...\n2gFsmDBM0hkoZPmrO5EdyO     521\n1uFixbBAduJkFAeRKznkvW     520\n5MlEt7qqXqNSReeX76xK6b     517\n4ReGayOtLkcAsNi6d2n7LS     504\n471Ycbmda1lAuLMscQvxMR     500\n\n[794 rows x 1 columns]",
      "text/html": "<div>\n<style scoped>\n    .dataframe tbody tr th:only-of-type {\n        vertical-align: middle;\n    }\n\n    .dataframe tbody tr th {\n        vertical-align: top;\n    }\n\n    .dataframe thead th {\n        text-align: right;\n    }\n</style>\n<table border=\"1\" class=\"dataframe\">\n  <thead>\n    <tr style=\"text-align: right;\">\n      <th></th>\n      <th>count</th>\n    </tr>\n    <tr>\n      <th>id_artist</th>\n      <th></th>\n    </tr>\n  </thead>\n  <tbody>\n    <tr>\n      <th>4AK6F7OLvEQ5QYCBNiQWHq</th>\n      <td>280516</td>\n    </tr>\n    <tr>\n      <th>15UsOTVnJzReFVN1VCnxy4</th>\n      <td>210671</td>\n    </tr>\n    <tr>\n      <th>1dfeR4HaWDbWqFHLkxsg1d</th>\n      <td>189387</td>\n    </tr>\n    <tr>\n      <th>711MCceyCBcFnzjGY4Q7Un</th>\n      <td>172201</td>\n    </tr>\n    <tr>\n      <th>08GQAI4eElDnROBrJRGE0X</th>\n      <td>158724</td>\n    </tr>\n    <tr>\n      <th>...</th>\n      <td>...</td>\n    </tr>\n    <tr>\n      <th>2gFsmDBM0hkoZPmrO5EdyO</th>\n      <td>521</td>\n    </tr>\n    <tr>\n      <th>1uFixbBAduJkFAeRKznkvW</th>\n      <td>520</td>\n    </tr>\n    <tr>\n      <th>5MlEt7qqXqNSReeX76xK6b</th>\n      <td>517</td>\n    </tr>\n    <tr>\n      <th>4ReGayOtLkcAsNi6d2n7LS</th>\n      <td>504</td>\n    </tr>\n    <tr>\n      <th>471Ycbmda1lAuLMscQvxMR</th>\n      <td>500</td>\n    </tr>\n  </tbody>\n</table>\n<p>794 rows × 1 columns</p>\n</div>"
     },
     "execution_count": 10,
     "metadata": {},
     "output_type": "execute_result"
    }
   ],
   "source": [
    "# plot the number of session per artist\n",
    "session_counts = df_session_artist['id_artist'].value_counts()\n",
    "df_session_counts = pd.DataFrame(session_counts)\n",
    "df_session_counts"
   ],
   "metadata": {
    "collapsed": false,
    "ExecuteTime": {
     "end_time": "2023-11-30T15:01:47.423921602Z",
     "start_time": "2023-11-30T15:01:47.418852332Z"
    }
   },
   "id": "e804395341eaad7b"
  },
  {
   "cell_type": "code",
   "execution_count": 11,
   "outputs": [
    {
     "data": {
      "text/plain": "<Figure size 640x480 with 1 Axes>",
      "image/png": "[encoded data removed]"
     },
     "metadata": {},
     "output_type": "display_data"
    }
   ],
   "source": [
    "\n",
    "session_counts_list = df_session_counts['count'].tolist()\n",
    "# hist plot session counts list\n",
    "import matplotlib.pyplot as plt\n",
    "plt.hist(session_counts_list, bins=100)\n",
    "plt.show()"
   ],
   "metadata": {
    "collapsed": false,
    "ExecuteTime": {
     "end_time": "2023-11-30T15:01:47.917529683Z",
     "start_time": "2023-11-30T15:01:47.425250697Z"
    }
   },
   "id": "6634729aba64f2df"
  },
  {
   "cell_type": "code",
   "execution_count": 12,
   "outputs": [
    {
     "data": {
      "text/plain": "<Figure size 640x480 with 1 Axes>",
      "image/png": "[encoded data removed]"
     },
     "metadata": {},
     "output_type": "display_data"
    }
   ],
   "source": [
    "# normalize session counts list and plot\n",
    "import numpy as np\n",
    "session_counts_list_norm = np.array(session_counts_list)\n",
    "session_counts_list_norm = session_counts_list_norm / session_counts_list_norm.sum()\n",
    "plt.hist(session_counts_list_norm, bins=100)\n",
    "plt.show()"
   ],
   "metadata": {
    "collapsed": false,
    "ExecuteTime": {
     "end_time": "2023-11-30T15:01:48.069045441Z",
     "start_time": "2023-11-30T15:01:47.907586549Z"
    }
   },
   "id": "72d6934a83395c05"
  },
  {
   "cell_type": "code",
   "execution_count": 13,
   "outputs": [
    {
     "data": {
      "text/plain": "<Figure size 640x480 with 1 Axes>",
      "image/png": "[encoded data removed]"
     },
     "metadata": {},
     "output_type": "display_data"
    }
   ],
   "source": [
    "# box plot session counts list\n",
    "plt.boxplot(session_counts_list)\n",
    "plt.show()"
   ],
   "metadata": {
    "collapsed": false,
    "ExecuteTime": {
     "end_time": "2023-11-30T15:01:48.241876385Z",
     "start_time": "2023-11-30T15:01:48.080380980Z"
    }
   },
   "id": "568add9452b0e6ed"
  },
  {
   "cell_type": "code",
   "execution_count": 14,
   "outputs": [
    {
     "data": {
      "text/plain": "<Figure size 640x480 with 1 Axes>",
      "image/png": "[encoded data removed]"
     },
     "metadata": {},
     "output_type": "display_data"
    }
   ],
   "source": [
    "plt.hist(session_counts_list[:100], bins=100)\n",
    "plt.show()"
   ],
   "metadata": {
    "collapsed": false,
    "ExecuteTime": {
     "end_time": "2023-11-30T15:01:48.318699229Z",
     "start_time": "2023-11-30T15:01:48.177367878Z"
    }
   },
   "id": "ed7916606ad72ab5"
  },
  {
   "cell_type": "markdown",
   "source": [
    "## summary\n",
    "1. (794, 27650) - arists played in sessions and artists in the dataset\n",
    "2. most of artists are played sporadically"
   ],
   "metadata": {
    "collapsed": false
   },
   "id": "771fc46ce03cd7d4"
  }
 ],
 "metadata": {
  "kernelspec": {
   "display_name": "Python 3",
   "language": "python",
   "name": "python3"
  },
  "language_info": {
   "codemirror_mode": {
    "name": "ipython",
    "version": 2
   },
   "file_extension": ".py",
   "mimetype": "text/x-python",
   "name": "python",
   "nbconvert_exporter": "python",
   "pygments_lexer": "ipython2",
   "version": "2.7.6"
  }
 },
 "nbformat": 4,
 "nbformat_minor": 5
}
