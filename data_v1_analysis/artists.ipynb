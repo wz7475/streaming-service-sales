{
 "cells": [
  {
   "cell_type": "code",
   "execution_count": 3,
   "id": "initial_id",
   "metadata": {
    "ExecuteTime": {
     "end_time": "2023-11-26T20:47:00.700574184Z",
     "start_time": "2023-11-26T20:47:00.644320830Z"
    },
    "collapsed": true
   },
   "outputs": [],
   "source": [
    "import os\n",
    "import pandas as pd\n",
    "from config_file import data_path\n",
    "\n",
    "path = os.path.join(data_path, \"artists.jsonl\")\n",
    "df = pd.read_json(path, orient=\"records\", lines=True)"
   ]
  },
  {
   "cell_type": "code",
   "execution_count": 4,
   "id": "2bd28a6467d8f5f6",
   "metadata": {
    "ExecuteTime": {
     "end_time": "2023-11-26T20:47:01.564553064Z",
     "start_time": "2023-11-26T20:47:01.559660205Z"
    },
    "collapsed": false
   },
   "outputs": [
    {
     "data": {
      "text/html": [
       "<div>\n",
       "<style scoped>\n",
       "    .dataframe tbody tr th:only-of-type {\n",
       "        vertical-align: middle;\n",
       "    }\n",
       "\n",
       "    .dataframe tbody tr th {\n",
       "        vertical-align: top;\n",
       "    }\n",
       "\n",
       "    .dataframe thead th {\n",
       "        text-align: right;\n",
       "    }\n",
       "</style>\n",
       "<table border=\"1\" class=\"dataframe\">\n",
       "  <thead>\n",
       "    <tr style=\"text-align: right;\">\n",
       "      <th></th>\n",
       "      <th>id</th>\n",
       "      <th>name</th>\n",
       "      <th>genres</th>\n",
       "    </tr>\n",
       "  </thead>\n",
       "  <tbody>\n",
       "    <tr>\n",
       "      <th>0</th>\n",
       "      <td>72578usTM6Cj5qWsi471Nc</td>\n",
       "      <td>Raghu Dixit</td>\n",
       "      <td>[filmi, indian folk, indian rock, kannada pop]</td>\n",
       "    </tr>\n",
       "    <tr>\n",
       "      <th>1</th>\n",
       "      <td>7b6Ui7JVaBDEfZB9k6nHL0</td>\n",
       "      <td>The Local Train</td>\n",
       "      <td>[desi pop, hindi indie, indian indie, indian r...</td>\n",
       "    </tr>\n",
       "    <tr>\n",
       "      <th>2</th>\n",
       "      <td>5wJ1H6ud777odtZl5gG507</td>\n",
       "      <td>Vishal Mishra</td>\n",
       "      <td>[desi pop, modern bollywood]</td>\n",
       "    </tr>\n",
       "    <tr>\n",
       "      <th>3</th>\n",
       "      <td>0n4a5imdLBN24fIrBWoqrv</td>\n",
       "      <td>Because</td>\n",
       "      <td>[opm, pinoy hip hop, pinoy r&amp;b, pinoy trap, ta...</td>\n",
       "    </tr>\n",
       "    <tr>\n",
       "      <th>4</th>\n",
       "      <td>4gdMJYnopf2nEUcanAwstx</td>\n",
       "      <td>Anuv Jain</td>\n",
       "      <td>[hindi indie, indian indie, indian singer-song...</td>\n",
       "    </tr>\n",
       "  </tbody>\n",
       "</table>\n",
       "</div>"
      ],
      "text/plain": [
       "                       id             name  \\\n",
       "0  72578usTM6Cj5qWsi471Nc      Raghu Dixit   \n",
       "1  7b6Ui7JVaBDEfZB9k6nHL0  The Local Train   \n",
       "2  5wJ1H6ud777odtZl5gG507    Vishal Mishra   \n",
       "3  0n4a5imdLBN24fIrBWoqrv          Because   \n",
       "4  4gdMJYnopf2nEUcanAwstx        Anuv Jain   \n",
       "\n",
       "                                              genres  \n",
       "0     [filmi, indian folk, indian rock, kannada pop]  \n",
       "1  [desi pop, hindi indie, indian indie, indian r...  \n",
       "2                       [desi pop, modern bollywood]  \n",
       "3  [opm, pinoy hip hop, pinoy r&b, pinoy trap, ta...  \n",
       "4  [hindi indie, indian indie, indian singer-song...  "
      ]
     },
     "execution_count": 4,
     "metadata": {},
     "output_type": "execute_result"
    }
   ],
   "source": [
    "df.head()"
   ]
  },
  {
   "cell_type": "code",
   "execution_count": 4,
   "id": "f32bae5d397fbff",
   "metadata": {
    "ExecuteTime": {
     "end_time": "2023-11-26T18:13:35.741278518Z",
     "start_time": "2023-11-26T18:13:35.740018011Z"
    },
    "collapsed": false
   },
   "outputs": [
    {
     "name": "stdout",
     "output_type": "stream",
     "text": [
      "<class 'pandas.core.frame.DataFrame'>\n",
      "RangeIndex: 27650 entries, 0 to 27649\n",
      "Data columns (total 3 columns):\n",
      " #   Column  Non-Null Count  Dtype \n",
      "---  ------  --------------  ----- \n",
      " 0   id      27650 non-null  object\n",
      " 1   name    27650 non-null  object\n",
      " 2   genres  22101 non-null  object\n",
      "dtypes: object(3)\n",
      "memory usage: 648.2+ KB\n"
     ]
    }
   ],
   "source": [
    "df.info()"
   ]
  },
  {
   "cell_type": "code",
   "execution_count": 5,
   "id": "aea6c5ba58271d1d",
   "metadata": {
    "ExecuteTime": {
     "end_time": "2023-11-26T18:13:41.386096766Z",
     "start_time": "2023-11-26T18:13:35.740284564Z"
    },
    "collapsed": false
   },
   "outputs": [
    {
     "data": {
      "text/html": [
       "<div>\n",
       "<style scoped>\n",
       "    .dataframe tbody tr th:only-of-type {\n",
       "        vertical-align: middle;\n",
       "    }\n",
       "\n",
       "    .dataframe tbody tr th {\n",
       "        vertical-align: top;\n",
       "    }\n",
       "\n",
       "    .dataframe thead th {\n",
       "        text-align: right;\n",
       "    }\n",
       "</style>\n",
       "<table border=\"1\" class=\"dataframe\">\n",
       "  <thead>\n",
       "    <tr style=\"text-align: right;\">\n",
       "      <th></th>\n",
       "      <th>id</th>\n",
       "      <th>name</th>\n",
       "      <th>genres</th>\n",
       "    </tr>\n",
       "  </thead>\n",
       "  <tbody>\n",
       "    <tr>\n",
       "      <th>count</th>\n",
       "      <td>27650</td>\n",
       "      <td>27650</td>\n",
       "      <td>22101</td>\n",
       "    </tr>\n",
       "    <tr>\n",
       "      <th>unique</th>\n",
       "      <td>22163</td>\n",
       "      <td>27542</td>\n",
       "      <td>11645</td>\n",
       "    </tr>\n",
       "    <tr>\n",
       "      <th>top</th>\n",
       "      <td>-1</td>\n",
       "      <td>TNT</td>\n",
       "      <td>[classic thai pop]</td>\n",
       "    </tr>\n",
       "    <tr>\n",
       "      <th>freq</th>\n",
       "      <td>5488</td>\n",
       "      <td>4</td>\n",
       "      <td>59</td>\n",
       "    </tr>\n",
       "  </tbody>\n",
       "</table>\n",
       "</div>"
      ],
      "text/plain": [
       "           id   name              genres\n",
       "count   27650  27650               22101\n",
       "unique  22163  27542               11645\n",
       "top        -1    TNT  [classic thai pop]\n",
       "freq     5488      4                  59"
      ]
     },
     "execution_count": 5,
     "metadata": {},
     "output_type": "execute_result"
    }
   ],
   "source": [
    "df.describe()"
   ]
  },
  {
   "cell_type": "code",
   "execution_count": 9,
   "id": "64c47cadbc7ab60f",
   "metadata": {
    "ExecuteTime": {
     "end_time": "2023-11-26T18:16:15.100516887Z",
     "start_time": "2023-11-26T18:16:15.024260298Z"
    },
    "collapsed": false
   },
   "outputs": [],
   "source": [
    "from matplotlib import pyplot as plt\n",
    "def plot_hist(df, col):\n",
    "    col_info = [df[col].notnull().sum(), df[col].isnull().sum()]\n",
    "    print(f\"not null: {col_info[0]}, null: {col_info[1]}\")\n",
    "    plt.bar([\"not null\", \"null\"], col_info)\n",
    "    for i, v in enumerate(col_info):\n",
    "        plt.text(i, v, str(v), color=\"blue\", fontweight=\"bold\")\n",
    "    plt.title(col)\n",
    "    plt.show()"
   ]
  },
  {
   "cell_type": "code",
   "execution_count": 10,
   "id": "e4099baab21f7dd2",
   "metadata": {
    "ExecuteTime": {
     "end_time": "2023-11-26T18:16:17.890754630Z",
     "start_time": "2023-11-26T18:16:17.813101985Z"
    },
    "collapsed": false
   },
   "outputs": [
    {
     "name": "stdout",
     "output_type": "stream",
     "text": [
      "not null: 27650, null: 0\n"
     ]
    },
    {
     "data": {
      "image/png": "[encoded data removed]",
      "text/plain": [
       "<Figure size 640x480 with 1 Axes>"
      ]
     },
     "metadata": {},
     "output_type": "display_data"
    }
   ],
   "source": [
    "plot_hist(df, \"name\")"
   ]
  },
  {
   "cell_type": "code",
   "execution_count": 11,
   "id": "652120d2edaace21",
   "metadata": {
    "ExecuteTime": {
     "end_time": "2023-11-26T18:16:27.141196477Z",
     "start_time": "2023-11-26T18:16:27.070306760Z"
    },
    "collapsed": false
   },
   "outputs": [
    {
     "name": "stdout",
     "output_type": "stream",
     "text": [
      "not null: 22101, null: 5549\n"
     ]
    },
    {
     "data": {
      "image/png": "[encoded data removed]",
      "text/plain": [
       "<Figure size 640x480 with 1 Axes>"
      ]
     },
     "metadata": {},
     "output_type": "display_data"
    }
   ],
   "source": [
    "plot_hist(df, \"genres\")"
   ]
  },
  {
   "cell_type": "code",
   "execution_count": 13,
   "id": "bdfaa51257bc0dbf",
   "metadata": {
    "ExecuteTime": {
     "end_time": "2023-11-26T18:17:10.289252367Z",
     "start_time": "2023-11-26T18:17:10.189079342Z"
    },
    "collapsed": false
   },
   "outputs": [
    {
     "name": "stdout",
     "output_type": "stream",
     "text": [
      "not null: 27650, null: 0\n"
     ]
    },
    {
     "data": {
      "image/png": "[encoded data removed]",
      "text/plain": [
       "<Figure size 640x480 with 1 Axes>"
      ]
     },
     "metadata": {},
     "output_type": "display_data"
    }
   ],
   "source": [
    "plot_hist(df, \"id\")"
   ]
  },
  {
   "cell_type": "code",
   "execution_count": 15,
   "id": "3d5da92c5b0334d7",
   "metadata": {
    "ExecuteTime": {
     "end_time": "2023-11-26T18:18:06.782407353Z",
     "start_time": "2023-11-26T18:18:06.724597070Z"
    },
    "collapsed": false
   },
   "outputs": [
    {
     "data": {
      "text/html": [
       "<div>\n",
       "<style scoped>\n",
       "    .dataframe tbody tr th:only-of-type {\n",
       "        vertical-align: middle;\n",
       "    }\n",
       "\n",
       "    .dataframe tbody tr th {\n",
       "        vertical-align: top;\n",
       "    }\n",
       "\n",
       "    .dataframe thead th {\n",
       "        text-align: right;\n",
       "    }\n",
       "</style>\n",
       "<table border=\"1\" class=\"dataframe\">\n",
       "  <thead>\n",
       "    <tr style=\"text-align: right;\">\n",
       "      <th></th>\n",
       "      <th>id</th>\n",
       "      <th>name</th>\n",
       "      <th>genres</th>\n",
       "    </tr>\n",
       "  </thead>\n",
       "  <tbody>\n",
       "    <tr>\n",
       "      <th>6</th>\n",
       "      <td>-1</td>\n",
       "      <td>Los Arroyenos</td>\n",
       "      <td>[villancicos]</td>\n",
       "    </tr>\n",
       "    <tr>\n",
       "      <th>12</th>\n",
       "      <td>-1</td>\n",
       "      <td>Los Hermanos Cardozo</td>\n",
       "      <td>[chamame, folklore argentino]</td>\n",
       "    </tr>\n",
       "    <tr>\n",
       "      <th>29</th>\n",
       "      <td>-1</td>\n",
       "      <td>Tren Loco</td>\n",
       "      <td>[argentine heavy metal, argentine metal, latin...</td>\n",
       "    </tr>\n",
       "    <tr>\n",
       "      <th>30</th>\n",
       "      <td>-1</td>\n",
       "      <td>Orly</td>\n",
       "      <td>[cuarteto, musica blumenauense]</td>\n",
       "    </tr>\n",
       "    <tr>\n",
       "      <th>33</th>\n",
       "      <td>-1</td>\n",
       "      <td>Sergio Galleguillo Y Los Amigos</td>\n",
       "      <td>[folklore argentino]</td>\n",
       "    </tr>\n",
       "    <tr>\n",
       "      <th>...</th>\n",
       "      <td>...</td>\n",
       "      <td>...</td>\n",
       "      <td>...</td>\n",
       "    </tr>\n",
       "    <tr>\n",
       "      <th>27623</th>\n",
       "      <td>-1</td>\n",
       "      <td>Morttagua</td>\n",
       "      <td>[focus trance, melodic techno]</td>\n",
       "    </tr>\n",
       "    <tr>\n",
       "      <th>27628</th>\n",
       "      <td>-1</td>\n",
       "      <td>Fon.Leman</td>\n",
       "      <td>[progressive trance, progressive trance house]</td>\n",
       "    </tr>\n",
       "    <tr>\n",
       "      <th>27640</th>\n",
       "      <td>-1</td>\n",
       "      <td>Sponge</td>\n",
       "      <td>[alternative rock, grunge, pop rock, post-grunge]</td>\n",
       "    </tr>\n",
       "    <tr>\n",
       "      <th>27641</th>\n",
       "      <td>-1</td>\n",
       "      <td>宮里久美</td>\n",
       "      <td>None</td>\n",
       "    </tr>\n",
       "    <tr>\n",
       "      <th>27649</th>\n",
       "      <td>-1</td>\n",
       "      <td>พราว</td>\n",
       "      <td>[thai indie]</td>\n",
       "    </tr>\n",
       "  </tbody>\n",
       "</table>\n",
       "<p>5488 rows × 3 columns</p>\n",
       "</div>"
      ],
      "text/plain": [
       "       id                             name  \\\n",
       "6      -1                    Los Arroyenos   \n",
       "12     -1             Los Hermanos Cardozo   \n",
       "29     -1                        Tren Loco   \n",
       "30     -1                             Orly   \n",
       "33     -1  Sergio Galleguillo Y Los Amigos   \n",
       "...    ..                              ...   \n",
       "27623  -1                        Morttagua   \n",
       "27628  -1                        Fon.Leman   \n",
       "27640  -1                           Sponge   \n",
       "27641  -1                             宮里久美   \n",
       "27649  -1                             พราว   \n",
       "\n",
       "                                                  genres  \n",
       "6                                          [villancicos]  \n",
       "12                         [chamame, folklore argentino]  \n",
       "29     [argentine heavy metal, argentine metal, latin...  \n",
       "30                       [cuarteto, musica blumenauense]  \n",
       "33                                  [folklore argentino]  \n",
       "...                                                  ...  \n",
       "27623                     [focus trance, melodic techno]  \n",
       "27628     [progressive trance, progressive trance house]  \n",
       "27640  [alternative rock, grunge, pop rock, post-grunge]  \n",
       "27641                                               None  \n",
       "27649                                       [thai indie]  \n",
       "\n",
       "[5488 rows x 3 columns]"
      ]
     },
     "execution_count": 15,
     "metadata": {},
     "output_type": "execute_result"
    }
   ],
   "source": [
    "# df where id is -1\n",
    "df[df[\"id\"] == -1]"
   ]
  },
  {
   "cell_type": "code",
   "execution_count": 28,
   "id": "dfd15757ede5d7e9",
   "metadata": {
    "ExecuteTime": {
     "end_time": "2023-11-26T18:25:10.590612206Z",
     "start_time": "2023-11-26T18:25:10.505329323Z"
    },
    "collapsed": false
   },
   "outputs": [
    {
     "name": "stdout",
     "output_type": "stream",
     "text": [
      "not -1: 22162, -1: 5488\n"
     ]
    },
    {
     "data": {
      "image/png": "[encoded data removed]",
      "text/plain": [
       "<Figure size 640x480 with 1 Axes>"
      ]
     },
     "metadata": {},
     "output_type": "display_data"
    }
   ],
   "source": [
    "col_info = [df[df[\"id\"] != -1].shape[0], df[df[\"id\"] == -1].shape[0]]\n",
    "print(f\"not -1: {col_info[0]}, -1: {col_info[1]}\")\n",
    "plt.bar([\"not -1\", \"-1\"], col_info)\n",
    "for i, v in enumerate(col_info):\n",
    "    plt.text(i, v, str(v), color=\"blue\", fontweight=\"bold\")\n",
    "plt.show()"
   ]
  },
  {
   "cell_type": "markdown",
   "id": "163343781d59562d",
   "metadata": {
    "collapsed": false
   },
   "source": [
    "## Podsumowanie\n",
    "- gatunek wykonywany przez artystę często wynosi null\n",
    "- id artysty wynosi często -1"
   ]
  },
  {
   "cell_type": "markdown",
   "id": "7fcd2c86",
   "metadata": {},
   "source": []
  }
 ],
 "metadata": {
  "kernelspec": {
   "display_name": "Python 3",
   "language": "python",
   "name": "python3"
  },
  "language_info": {
   "codemirror_mode": {
    "name": "ipython",
    "version": 2
   },
   "file_extension": ".py",
   "mimetype": "text/x-python",
   "name": "python",
   "nbconvert_exporter": "python",
   "pygments_lexer": "ipython2",
   "version": "2.7.6"
  }
 },
 "nbformat": 4,
 "nbformat_minor": 5
}
