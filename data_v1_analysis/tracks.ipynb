{
 "cells": [
  {
   "cell_type": "code",
   "execution_count": 1,
   "id": "initial_id",
   "metadata": {
    "collapsed": true,
    "ExecuteTime": {
     "end_time": "2023-11-26T20:46:49.160570787Z",
     "start_time": "2023-11-26T20:46:47.902938736Z"
    }
   },
   "outputs": [],
   "source": [
    "import os\n",
    "import pandas as pd\n",
    "from config_file import data_path\n",
    "\n",
    "path = os.path.join(data_path, \"tracks.jsonl\")\n",
    "df = pd.read_json(path, orient=\"records\", lines=True)"
   ]
  },
  {
   "cell_type": "code",
   "execution_count": 2,
   "outputs": [
    {
     "data": {
      "text/plain": "                       id                         name  popularity  \\\n0                    None       Voglio farti un regalo        40.0   \n1                    None  My Love - Live / Remastered        34.0   \n2  7cNyONpVADZVrW9xe3qq4z               Heroes of Sand        45.0   \n3                    None        Shine on Harvest Moon         6.0   \n4  56OEjuyZ3AROnv4aR1XqhD                          男子漢        19.0   \n\n   duration_ms  explicit               id_artist release_date  danceability  \\\n0       249573         1                    None   2004-09-01         0.727   \n1       254733         0  3sFhA6G1N0gG1pszb6kk1m   1976-12-10         0.444   \n2       279347         0                    None         2001         0.273   \n3       193707         0  5bOsFzuJ6QZMr86ezC4oXY   1961-10-15         0.628   \n4       182120         0  6zJ7WZkyTNmB1bFdmHH2k9   1970-01-11         0.353   \n\n   energy  key  mode  loudness  speechiness  acousticness  instrumentalness  \\\n0  0.6630    4   0.0    -4.818       0.2770       0.08010          0.000000   \n1  0.3480    5   1.0   -12.729       0.0321       0.65600          0.003740   \n2  0.8990    6   1.0    -5.131       0.0499       0.00177          0.000006   \n3  0.0616    0   1.0   -24.973       0.0558       0.78400          0.000009   \n4  0.0663    8   0.0   -24.915       0.0445       0.95800          0.000446   \n\n   liveness  valence    tempo  time_signature  \n0     0.119    0.633   97.865               4  \n1     0.956    0.284  116.685               4  \n2     0.128    0.301  159.872               3  \n3     0.172    0.340   85.012               4  \n4     0.241    0.317  100.041               4  ",
      "text/html": "<div>\n<style scoped>\n    .dataframe tbody tr th:only-of-type {\n        vertical-align: middle;\n    }\n\n    .dataframe tbody tr th {\n        vertical-align: top;\n    }\n\n    .dataframe thead th {\n        text-align: right;\n    }\n</style>\n<table border=\"1\" class=\"dataframe\">\n  <thead>\n    <tr style=\"text-align: right;\">\n      <th></th>\n      <th>id</th>\n      <th>name</th>\n      <th>popularity</th>\n      <th>duration_ms</th>\n      <th>explicit</th>\n      <th>id_artist</th>\n      <th>release_date</th>\n      <th>danceability</th>\n      <th>energy</th>\n      <th>key</th>\n      <th>mode</th>\n      <th>loudness</th>\n      <th>speechiness</th>\n      <th>acousticness</th>\n      <th>instrumentalness</th>\n      <th>liveness</th>\n      <th>valence</th>\n      <th>tempo</th>\n      <th>time_signature</th>\n    </tr>\n  </thead>\n  <tbody>\n    <tr>\n      <th>0</th>\n      <td>None</td>\n      <td>Voglio farti un regalo</td>\n      <td>40.0</td>\n      <td>249573</td>\n      <td>1</td>\n      <td>None</td>\n      <td>2004-09-01</td>\n      <td>0.727</td>\n      <td>0.6630</td>\n      <td>4</td>\n      <td>0.0</td>\n      <td>-4.818</td>\n      <td>0.2770</td>\n      <td>0.08010</td>\n      <td>0.000000</td>\n      <td>0.119</td>\n      <td>0.633</td>\n      <td>97.865</td>\n      <td>4</td>\n    </tr>\n    <tr>\n      <th>1</th>\n      <td>None</td>\n      <td>My Love - Live / Remastered</td>\n      <td>34.0</td>\n      <td>254733</td>\n      <td>0</td>\n      <td>3sFhA6G1N0gG1pszb6kk1m</td>\n      <td>1976-12-10</td>\n      <td>0.444</td>\n      <td>0.3480</td>\n      <td>5</td>\n      <td>1.0</td>\n      <td>-12.729</td>\n      <td>0.0321</td>\n      <td>0.65600</td>\n      <td>0.003740</td>\n      <td>0.956</td>\n      <td>0.284</td>\n      <td>116.685</td>\n      <td>4</td>\n    </tr>\n    <tr>\n      <th>2</th>\n      <td>7cNyONpVADZVrW9xe3qq4z</td>\n      <td>Heroes of Sand</td>\n      <td>45.0</td>\n      <td>279347</td>\n      <td>0</td>\n      <td>None</td>\n      <td>2001</td>\n      <td>0.273</td>\n      <td>0.8990</td>\n      <td>6</td>\n      <td>1.0</td>\n      <td>-5.131</td>\n      <td>0.0499</td>\n      <td>0.00177</td>\n      <td>0.000006</td>\n      <td>0.128</td>\n      <td>0.301</td>\n      <td>159.872</td>\n      <td>3</td>\n    </tr>\n    <tr>\n      <th>3</th>\n      <td>None</td>\n      <td>Shine on Harvest Moon</td>\n      <td>6.0</td>\n      <td>193707</td>\n      <td>0</td>\n      <td>5bOsFzuJ6QZMr86ezC4oXY</td>\n      <td>1961-10-15</td>\n      <td>0.628</td>\n      <td>0.0616</td>\n      <td>0</td>\n      <td>1.0</td>\n      <td>-24.973</td>\n      <td>0.0558</td>\n      <td>0.78400</td>\n      <td>0.000009</td>\n      <td>0.172</td>\n      <td>0.340</td>\n      <td>85.012</td>\n      <td>4</td>\n    </tr>\n    <tr>\n      <th>4</th>\n      <td>56OEjuyZ3AROnv4aR1XqhD</td>\n      <td>男子漢</td>\n      <td>19.0</td>\n      <td>182120</td>\n      <td>0</td>\n      <td>6zJ7WZkyTNmB1bFdmHH2k9</td>\n      <td>1970-01-11</td>\n      <td>0.353</td>\n      <td>0.0663</td>\n      <td>8</td>\n      <td>0.0</td>\n      <td>-24.915</td>\n      <td>0.0445</td>\n      <td>0.95800</td>\n      <td>0.000446</td>\n      <td>0.241</td>\n      <td>0.317</td>\n      <td>100.041</td>\n      <td>4</td>\n    </tr>\n  </tbody>\n</table>\n</div>"
     },
     "execution_count": 2,
     "metadata": {},
     "output_type": "execute_result"
    }
   ],
   "source": [
    "df.head()"
   ],
   "metadata": {
    "collapsed": false,
    "ExecuteTime": {
     "end_time": "2023-11-26T20:46:51.201577211Z",
     "start_time": "2023-11-26T20:46:51.156824151Z"
    }
   },
   "id": "2bd28a6467d8f5f6"
  },
  {
   "cell_type": "code",
   "execution_count": 5,
   "outputs": [
    {
     "name": "stdout",
     "output_type": "stream",
     "text": [
      "<class 'pandas.core.frame.DataFrame'>\n",
      "RangeIndex: 129648 entries, 0 to 129647\n",
      "Data columns (total 19 columns):\n",
      " #   Column            Non-Null Count   Dtype  \n",
      "---  ------            --------------   -----  \n",
      " 0   id                103966 non-null  object \n",
      " 1   name              103726 non-null  object \n",
      " 2   popularity        103738 non-null  float64\n",
      " 3   duration_ms       129648 non-null  int64  \n",
      " 4   explicit          129648 non-null  int64  \n",
      " 5   id_artist         103865 non-null  object \n",
      " 6   release_date      129648 non-null  object \n",
      " 7   danceability      129648 non-null  float64\n",
      " 8   energy            129648 non-null  float64\n",
      " 9   key               129648 non-null  int64  \n",
      " 10  mode              25929 non-null   float64\n",
      " 11  loudness          129648 non-null  float64\n",
      " 12  speechiness       129648 non-null  float64\n",
      " 13  acousticness      129648 non-null  float64\n",
      " 14  instrumentalness  129648 non-null  float64\n",
      " 15  liveness          129648 non-null  float64\n",
      " 16  valence           129648 non-null  float64\n",
      " 17  tempo             129648 non-null  float64\n",
      " 18  time_signature    129648 non-null  int64  \n",
      "dtypes: float64(11), int64(4), object(4)\n",
      "memory usage: 18.8+ MB\n"
     ]
    }
   ],
   "source": [
    "df.info()"
   ],
   "metadata": {
    "collapsed": false,
    "ExecuteTime": {
     "end_time": "2023-11-26T17:45:59.327859870Z",
     "start_time": "2023-11-26T17:45:59.263798961Z"
    }
   },
   "id": "f32bae5d397fbff"
  },
  {
   "cell_type": "code",
   "execution_count": 6,
   "outputs": [
    {
     "data": {
      "text/plain": "          popularity   duration_ms       explicit   danceability  \\\ncount  103738.000000  1.296480e+05  129648.000000  129648.000000   \nmean       29.709499  2.281700e+05       0.036838       0.564819   \nstd        17.098428  1.093728e+05       0.188365       0.158891   \nmin         0.000000  4.000000e+03       0.000000       0.000000   \n25%        17.000000  1.774000e+05       0.000000       0.459000   \n50%        29.000000  2.167870e+05       0.000000       0.575000   \n75%        41.000000  2.632670e+05       0.000000       0.680000   \nmax        97.000000  4.027622e+06       1.000000       0.985000   \n\n              energy            key          mode       loudness  \\\ncount  129648.000000  129648.000000  25929.000000  129648.000000   \nmean        0.562813       5.218970      0.664198      -9.736491   \nstd         0.242104       3.522809      0.472279       4.521756   \nmin         0.000000       0.000000      0.000000     -60.000000   \n25%         0.378000       2.000000      0.000000     -12.326000   \n50%         0.569000       5.000000      1.000000      -8.997000   \n75%         0.761000       8.000000      1.000000      -6.384000   \nmax         1.000000      11.000000      1.000000       4.362000   \n\n         speechiness   acousticness  instrumentalness       liveness  \\\ncount  129648.000000  129648.000000     129648.000000  129648.000000   \nmean        0.095438       0.417547          0.086279       0.214310   \nstd         0.166511       0.335687          0.231604       0.186448   \nmin         0.000000       0.000000          0.000000       0.000000   \n25%         0.033100       0.083100          0.000000       0.097800   \n50%         0.042400       0.374000          0.000017       0.138000   \n75%         0.069625       0.729000          0.004020       0.278000   \nmax         0.968000       0.996000          1.000000       1.000000   \n\n             valence          tempo  time_signature  \ncount  129648.000000  129648.000000   129648.000000  \nmean        0.562926     119.556572        3.886215  \nstd         0.252468      29.637906        0.441328  \nmin         0.000000       0.000000        0.000000  \n25%         0.360000      96.772500        4.000000  \n50%         0.574000     118.254000        4.000000  \n75%         0.776000     137.759500        4.000000  \nmax         1.000000     243.507000        5.000000  ",
      "text/html": "<div>\n<style scoped>\n    .dataframe tbody tr th:only-of-type {\n        vertical-align: middle;\n    }\n\n    .dataframe tbody tr th {\n        vertical-align: top;\n    }\n\n    .dataframe thead th {\n        text-align: right;\n    }\n</style>\n<table border=\"1\" class=\"dataframe\">\n  <thead>\n    <tr style=\"text-align: right;\">\n      <th></th>\n      <th>popularity</th>\n      <th>duration_ms</th>\n      <th>explicit</th>\n      <th>danceability</th>\n      <th>energy</th>\n      <th>key</th>\n      <th>mode</th>\n      <th>loudness</th>\n      <th>speechiness</th>\n      <th>acousticness</th>\n      <th>instrumentalness</th>\n      <th>liveness</th>\n      <th>valence</th>\n      <th>tempo</th>\n      <th>time_signature</th>\n    </tr>\n  </thead>\n  <tbody>\n    <tr>\n      <th>count</th>\n      <td>103738.000000</td>\n      <td>1.296480e+05</td>\n      <td>129648.000000</td>\n      <td>129648.000000</td>\n      <td>129648.000000</td>\n      <td>129648.000000</td>\n      <td>25929.000000</td>\n      <td>129648.000000</td>\n      <td>129648.000000</td>\n      <td>129648.000000</td>\n      <td>129648.000000</td>\n      <td>129648.000000</td>\n      <td>129648.000000</td>\n      <td>129648.000000</td>\n      <td>129648.000000</td>\n    </tr>\n    <tr>\n      <th>mean</th>\n      <td>29.709499</td>\n      <td>2.281700e+05</td>\n      <td>0.036838</td>\n      <td>0.564819</td>\n      <td>0.562813</td>\n      <td>5.218970</td>\n      <td>0.664198</td>\n      <td>-9.736491</td>\n      <td>0.095438</td>\n      <td>0.417547</td>\n      <td>0.086279</td>\n      <td>0.214310</td>\n      <td>0.562926</td>\n      <td>119.556572</td>\n      <td>3.886215</td>\n    </tr>\n    <tr>\n      <th>std</th>\n      <td>17.098428</td>\n      <td>1.093728e+05</td>\n      <td>0.188365</td>\n      <td>0.158891</td>\n      <td>0.242104</td>\n      <td>3.522809</td>\n      <td>0.472279</td>\n      <td>4.521756</td>\n      <td>0.166511</td>\n      <td>0.335687</td>\n      <td>0.231604</td>\n      <td>0.186448</td>\n      <td>0.252468</td>\n      <td>29.637906</td>\n      <td>0.441328</td>\n    </tr>\n    <tr>\n      <th>min</th>\n      <td>0.000000</td>\n      <td>4.000000e+03</td>\n      <td>0.000000</td>\n      <td>0.000000</td>\n      <td>0.000000</td>\n      <td>0.000000</td>\n      <td>0.000000</td>\n      <td>-60.000000</td>\n      <td>0.000000</td>\n      <td>0.000000</td>\n      <td>0.000000</td>\n      <td>0.000000</td>\n      <td>0.000000</td>\n      <td>0.000000</td>\n      <td>0.000000</td>\n    </tr>\n    <tr>\n      <th>25%</th>\n      <td>17.000000</td>\n      <td>1.774000e+05</td>\n      <td>0.000000</td>\n      <td>0.459000</td>\n      <td>0.378000</td>\n      <td>2.000000</td>\n      <td>0.000000</td>\n      <td>-12.326000</td>\n      <td>0.033100</td>\n      <td>0.083100</td>\n      <td>0.000000</td>\n      <td>0.097800</td>\n      <td>0.360000</td>\n      <td>96.772500</td>\n      <td>4.000000</td>\n    </tr>\n    <tr>\n      <th>50%</th>\n      <td>29.000000</td>\n      <td>2.167870e+05</td>\n      <td>0.000000</td>\n      <td>0.575000</td>\n      <td>0.569000</td>\n      <td>5.000000</td>\n      <td>1.000000</td>\n      <td>-8.997000</td>\n      <td>0.042400</td>\n      <td>0.374000</td>\n      <td>0.000017</td>\n      <td>0.138000</td>\n      <td>0.574000</td>\n      <td>118.254000</td>\n      <td>4.000000</td>\n    </tr>\n    <tr>\n      <th>75%</th>\n      <td>41.000000</td>\n      <td>2.632670e+05</td>\n      <td>0.000000</td>\n      <td>0.680000</td>\n      <td>0.761000</td>\n      <td>8.000000</td>\n      <td>1.000000</td>\n      <td>-6.384000</td>\n      <td>0.069625</td>\n      <td>0.729000</td>\n      <td>0.004020</td>\n      <td>0.278000</td>\n      <td>0.776000</td>\n      <td>137.759500</td>\n      <td>4.000000</td>\n    </tr>\n    <tr>\n      <th>max</th>\n      <td>97.000000</td>\n      <td>4.027622e+06</td>\n      <td>1.000000</td>\n      <td>0.985000</td>\n      <td>1.000000</td>\n      <td>11.000000</td>\n      <td>1.000000</td>\n      <td>4.362000</td>\n      <td>0.968000</td>\n      <td>0.996000</td>\n      <td>1.000000</td>\n      <td>1.000000</td>\n      <td>1.000000</td>\n      <td>243.507000</td>\n      <td>5.000000</td>\n    </tr>\n  </tbody>\n</table>\n</div>"
     },
     "execution_count": 6,
     "metadata": {},
     "output_type": "execute_result"
    }
   ],
   "source": [
    "df.describe()"
   ],
   "metadata": {
    "collapsed": false,
    "ExecuteTime": {
     "end_time": "2023-11-26T17:46:46.643130075Z",
     "start_time": "2023-11-26T17:46:46.552510513Z"
    }
   },
   "id": "aea6c5ba58271d1d"
  },
  {
   "cell_type": "code",
   "execution_count": 9,
   "outputs": [
    {
     "data": {
      "text/plain": "count                     103865\nunique                     25024\ntop       3meJIgRw7YleJrmbpbJK6S\nfreq                         921\nName: id_artist, dtype: object"
     },
     "execution_count": 9,
     "metadata": {},
     "output_type": "execute_result"
    }
   ],
   "source": [
    "df[\"id_artist\"].describe()"
   ],
   "metadata": {
    "collapsed": false,
    "ExecuteTime": {
     "end_time": "2023-11-26T17:49:45.524604433Z",
     "start_time": "2023-11-26T17:49:45.481679407Z"
    }
   },
   "id": "49a2b5f90e6845f3"
  },
  {
   "cell_type": "code",
   "execution_count": 23,
   "outputs": [
    {
     "data": {
      "text/plain": "<Figure size 640x480 with 1 Axes>",
      "image/png": "[encoded data removed]"
     },
     "metadata": {},
     "output_type": "display_data"
    }
   ],
   "source": [
    "id_aritist_info = [df[\"id_artist\"].notnull().sum(), df[\"id_artist\"].isnull().sum()]\n",
    "# make hist plot\n",
    "from matplotlib import pyplot as plt\n",
    "\n",
    "plt.bar([\"not null\", \"null\"], id_aritist_info)\n",
    "for i, v in enumerate(id_aritist_info):\n",
    "    plt.text(i, v, str(v), color=\"blue\", fontweight=\"bold\")"
   ],
   "metadata": {
    "collapsed": false,
    "ExecuteTime": {
     "end_time": "2023-11-26T18:12:37.713422513Z",
     "start_time": "2023-11-26T18:12:37.542399227Z"
    }
   },
   "id": "347325be11f82547"
  },
  {
   "cell_type": "markdown",
   "source": [
    "## sum up\n",
    "1/4 of tracks has null artist id"
   ],
   "metadata": {
    "collapsed": false
   },
   "id": "af87679bb242804a"
  }
 ],
 "metadata": {
  "kernelspec": {
   "display_name": "Python 3",
   "language": "python",
   "name": "python3"
  },
  "language_info": {
   "codemirror_mode": {
    "name": "ipython",
    "version": 2
   },
   "file_extension": ".py",
   "mimetype": "text/x-python",
   "name": "python",
   "nbconvert_exporter": "python",
   "pygments_lexer": "ipython2",
   "version": "2.7.6"
  }
 },
 "nbformat": 4,
 "nbformat_minor": 5
}
